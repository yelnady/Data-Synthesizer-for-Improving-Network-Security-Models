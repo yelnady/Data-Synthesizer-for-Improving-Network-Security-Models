{
 "cells": [
  {
   "cell_type": "markdown",
   "id": "f3f5ad86-4248-4226-943d-0bc26a03e80e",
   "metadata": {},
   "source": [
    "# Required Imports"
   ]
  },
  {
   "cell_type": "code",
   "execution_count": 1,
   "id": "4a618acb-32dc-4450-a211-32bba60b2f60",
   "metadata": {},
   "outputs": [],
   "source": [
    "import sys, random, math, pickle\n",
    "from time import time\n",
    "import numpy as np\n",
    "import gc\n",
    "import matplotlib\n",
    "import matplotlib.pyplot as plt\n",
    "import torch\n",
    "from torch import nn\n",
    "from torch.nn import MSELoss\n",
    "import torch.nn.functional as F\n",
    "from datetime import timedelta\n",
    "from torch.nn import TransformerEncoder, TransformerEncoderLayer\n",
    "import pytorch_lightning as pl\n",
    "import torchmetrics.functional as FM\n",
    "from pytorch_lightning.callbacks.early_stopping import EarlyStopping\n",
    "from pytorch_lightning.plugins import DDPPlugin\n",
    "from pytorch_lightning.callbacks import ModelCheckpoint\n",
    "from sklearn.preprocessing import KBinsDiscretizer\n",
    "sys.path.append('../DG/gan')"
   ]
  },
  {
   "cell_type": "markdown",
   "id": "fbddef74-d62f-43c4-b7d0-cd6e45ac955b",
   "metadata": {},
   "source": [
    "# Loading Real Train Data"
   ]
  },
  {
   "cell_type": "code",
   "execution_count": 2,
   "id": "f63d9569-72bc-46f5-987f-64a4d1dbb42f",
   "metadata": {},
   "outputs": [],
   "source": [
    "def get_one_class(X,Y_labels,flag,class_label):\n",
    "    indices_class_label = np.where(Y_labels==class_label)\n",
    "    return X[indices_class_label], Y_labels[indices_class_label], flag[indices_class_label] \n",
    "    \n",
    "def get_n_samples(X,Y_labels,flag,n_samples):\n",
    "    randomList = random.sample(range(0, Y_labels.shape[0]), n_samples)\n",
    "    return X[randomList], Y_labels[randomList], flag[randomList]\n",
    "\n",
    "# In real data, if flag sum is 1 --> Then no timestep at all. \n",
    "            # So we do remove those ones by converting them to zeros, then return only non-zero flags indices\n",
    "# In real data, there is no flag of length ZERO\n",
    "def remove_zero_datapoints(X,Y_labels,flag):\n",
    "    indices_non_zero = torch.nonzero(torch.sum(flag,1)-1).squeeze()\n",
    "    return X[indices_non_zero], Y_labels[indices_non_zero], flag[indices_non_zero]\n"
   ]
  },
  {
   "cell_type": "code",
   "execution_count": 3,
   "id": "f052e082-0bba-43c0-9cab-0eab5f14d56a",
   "metadata": {},
   "outputs": [],
   "source": [
    "training_real = np.load('../data/google/data_train_reduced.npz')\n",
    "\n",
    "real_train_X = torch.from_numpy(training_real['data_feature']).float() #[50000, 2500, 9]\n",
    "real_train_Y = torch.from_numpy(training_real['data_attribute']) #[50000,4]\n",
    "real_train_Y_labels = torch.argmax(real_train_Y,1) #[50000,]  returns a list of the class label, no one hot encoding any more\n",
    "real_train_flags = torch.from_numpy(training_real['data_gen_flag'])   # (50000, 2500)\n",
    "\n",
    "real_train_X,real_train_Y_labels,real_train_flags = remove_zero_datapoints(real_train_X,real_train_Y_labels,real_train_flags)\n",
    "\n",
    "real_train_lengths = torch.sum(real_train_flags,1).long()\n",
    "\n",
    "real_train_masks = real_train_flags == 0"
   ]
  },
  {
   "cell_type": "code",
   "execution_count": 4,
   "id": "8e442d72-09bb-44db-9d9f-877d37b5a96a",
   "metadata": {},
   "outputs": [],
   "source": [
    "val_real = np.load('../data/google/data_train_val.npz')\n",
    "\n",
    "real_val_X = torch.from_numpy(val_real['data_feature']).float() #[50000, 2500, 9]\n",
    "real_val_Y = torch.from_numpy(val_real['data_attribute']) #[50000,4]\n",
    "real_val_Y_labels = torch.argmax(real_val_Y,1) #[50000,]  returns a list of the class label, no one hot encoding any more\n",
    "real_val_flags = torch.from_numpy(val_real['data_gen_flag'])   # (50000, 2500)\n",
    "\n",
    "real_val_X,real_val_Y_labels,real_val_flags = remove_zero_datapoints(real_val_X,real_val_Y_labels,real_val_flags)\n",
    "\n",
    "real_val_masks = real_val_flags == 0\n",
    "\n",
    "real_val_lengths = torch.sum(real_val_flags,1).long()"
   ]
  },
  {
   "cell_type": "markdown",
   "id": "a9cd9a80-dc8d-4086-8a97-7532b4d4e5b8",
   "metadata": {},
   "source": [
    "# Ideas of V10"
   ]
  },
  {
   "cell_type": "markdown",
   "id": "9bfd7c93-ef2b-4d20-9e8a-04c269e16022",
   "metadata": {},
   "source": [
    "- Feed Only data (real-valued), have two linear outputs, one is softmax as a classifier --> The last one is end token, another class --> We will discretize (Is it shifted or not)\n",
    "- We will need also to have the real-valued data outputted.\n",
    "- We need to see how to combine the nine features using mean."
   ]
  },
  {
   "cell_type": "markdown",
   "id": "b5df5559-645f-4ca9-9f76-09a86ae237d7",
   "metadata": {},
   "source": [
    "## Important\n",
    "\n",
    "- We don't shift the mask, so (last real value) should give (zero) and (end token).\n",
    "- We add the end token for the first zero, after all values\n",
    "- We also shift the nlp\n",
    "- Only 53 and 56 are greater than 400 timesteps for both train and val, respectively"
   ]
  },
  {
   "cell_type": "markdown",
   "id": "8b1b8ad6-8903-4ed4-ab6f-086bb600951c",
   "metadata": {},
   "source": [
    "# Discretizaiton"
   ]
  },
  {
   "cell_type": "markdown",
   "id": "28b315aa-c75b-4e38-9c2e-f8ba983ee927",
   "metadata": {},
   "source": [
    "1. Get Discretized Version (300-1)  --> Classes [0,298]\n",
    "2. Add end token using the lengths array after the last time step --> EOS = 299\n",
    "3. Shift one step, so the last timestep is expected to predict (end token).\n",
    "4. We don't need to change the mask at all. Since everything is taken into consideration"
   ]
  },
  {
   "cell_type": "code",
   "execution_count": 5,
   "id": "79c28ed1-a854-4c33-acde-bf318c9e0c73",
   "metadata": {},
   "outputs": [],
   "source": [
    "n_classes_disc = 30"
   ]
  },
  {
   "cell_type": "code",
   "execution_count": 8,
   "id": "bd1d79fd-6bbe-401d-9735-b4bb2fe3e3ca",
   "metadata": {
    "tags": []
   },
   "outputs": [
    {
     "name": "stderr",
     "output_type": "stream",
     "text": [
      "/rhome/yelnady/.local/lib/python3.8/site-packages/sklearn/preprocessing/_discretization.py:220: UserWarning: Bins whose width are too small (i.e., <= 1e-8) in feature 0 are removed. Consider decreasing the number of bins.\n",
      "  warnings.warn('Bins whose width are too small (i.e., <= '\n"
     ]
    },
    {
     "name": "stdout",
     "output_type": "stream",
     "text": [
      "PAD is: 29 EOS is: 28\n",
      "Number of Edges is: 28\n"
     ]
    }
   ],
   "source": [
    "# Convert to 1D feature --> Use Flag (masked_select) to keep only the important values.\n",
    "\n",
    "est_train = KBinsDiscretizer(n_bins=n_classes_disc-2,encode='ordinal', strategy='quantile')\n",
    "real_train_X_masked = est_train.fit(     real_train_X.mean(2).masked_select((real_train_flags == 1)).view(-1,1) )\n",
    "real_train_X_nlp = est_train.transform(real_train_X.mean(2).view(-1,1))\n",
    "real_train_X_nlp = torch.Tensor(real_train_X_nlp).view(real_train_X.shape[0], real_train_X.shape[1])\n",
    "\n",
    "for i,after_last in enumerate(real_train_lengths):\n",
    "    real_train_X_nlp[i,after_last]  = n_classes_disc - 2   \n",
    "    real_train_X_nlp[i,after_last+1:] = torch.full((2500 - after_last - 1,), n_classes_disc - 1)\n",
    "\n",
    "print(\"PAD is:\",n_classes_disc - 1, \"EOS is:\", n_classes_disc - 2)\n",
    "print(\"Number of Edges is:\",len(est_train.bin_edges_[0]) )\n",
    "\n",
    "B = real_train_X.size(0)\n",
    "S = real_train_X.size(1)\n",
    "E = real_train_X.size(2)\n",
    "\n",
    "Input_shifted = real_train_X_nlp[:,1:]\n",
    "Zero_at_the_end = torch.full((B,1), n_classes_disc - 1)\n",
    "targets_nlp = torch.cat((Input_shifted,Zero_at_the_end),1)"
   ]
  },
  {
   "cell_type": "code",
   "execution_count": 10,
   "id": "7e49cfa0-21e9-4436-ad83-e581abe73793",
   "metadata": {},
   "outputs": [],
   "source": [
    "real_train_X = real_train_X[:,:400]\n",
    "real_train_masks = real_train_masks[:,:400]\n",
    "targets_nlp= targets_nlp[:,:400]\n",
    "\n",
    "S = real_train_X.size(1)\n",
    "\n",
    "params_dataloader = {'shuffle': True,'num_workers':8 ,'batch_size':256} # No need to shuffle rn, they are all the same class\n",
    "dataset = torch.utils.data.TensorDataset(real_train_X, targets_nlp.long(), real_train_masks)\n",
    "train_dataloader  = torch.utils.data.DataLoader(dataset, **params_dataloader)"
   ]
  },
  {
   "cell_type": "code",
   "execution_count": 11,
   "id": "81acd581-6c0f-4983-afc8-17b9e8ecfe79",
   "metadata": {},
   "outputs": [
    {
     "data": {
      "text/plain": [
       "tensor([[17., 22.,  0., 28., 29., 29., 29., 29., 29., 29.],\n",
       "        [ 2., 28., 29., 29., 29., 29., 29., 29., 29., 29.],\n",
       "        [ 7., 21., 20., 17.,  3., 28., 29., 29., 29., 29.],\n",
       "        [11., 13., 14., 14., 14., 14., 14., 15.,  7., 28.],\n",
       "        [ 0.,  0.,  0.,  9., 25., 26., 26.,  2., 28., 29.],\n",
       "        [24., 23., 22.,  2., 28., 29., 29., 29., 29., 29.],\n",
       "        [ 2.,  1., 28., 29., 29., 29., 29., 29., 29., 29.],\n",
       "        [ 4.,  4.,  3.,  3.,  3.,  3.,  3.,  3.,  3.,  3.],\n",
       "        [ 1., 28., 29., 29., 29., 29., 29., 29., 29., 29.],\n",
       "        [13., 13., 13., 13., 13., 14., 13.,  7., 28., 29.],\n",
       "        [20., 22., 21., 17., 23., 17.,  2., 28., 29., 29.],\n",
       "        [ 7.,  7.,  7.,  6.,  6.,  7.,  6.,  7.,  6.,  6.],\n",
       "        [ 9.,  0.,  0., 28., 29., 29., 29., 29., 29., 29.],\n",
       "        [10., 11.,  1., 28., 29., 29., 29., 29., 29., 29.],\n",
       "        [ 6.,  1., 28., 29., 29., 29., 29., 29., 29., 29.],\n",
       "        [ 1., 28., 29., 29., 29., 29., 29., 29., 29., 29.],\n",
       "        [14., 14., 16., 18., 19., 17., 18.,  7., 28., 29.],\n",
       "        [10., 11., 10., 11., 12., 12., 11., 12., 12., 12.],\n",
       "        [ 2., 28., 29., 29., 29., 29., 29., 29., 29., 29.],\n",
       "        [ 6., 18.,  1., 28., 29., 29., 29., 29., 29., 29.]])"
      ]
     },
     "execution_count": 11,
     "metadata": {},
     "output_type": "execute_result"
    }
   ],
   "source": [
    "targets_nlp[200:220,:10]"
   ]
  },
  {
   "cell_type": "code",
   "execution_count": null,
   "id": "f134f338-5646-4e2a-a4c3-a09d4ad22049",
   "metadata": {},
   "outputs": [],
   "source": [
    "# #Discretizing\n",
    "# est_val = KBinsDiscretizer(n_bins=n_classes_disc-1,encode='ordinal', strategy='uniform')\n",
    "\n",
    "# real_val_X_nlp = real_val_X.sum(2)\n",
    "# real_val_X_nlp = est_val.fit_transform(real_val_X_nlp.view(-1,1))\n",
    "# real_val_X_nlp = torch.Tensor(real_val_X_nlp).view(real_val_X.shape[0], real_val_X.shape[1])\n",
    "# # est.bin_edges_\n",
    "\n",
    "# #Adding End Token\n",
    "# for i,after_last in enumerate(real_val_lengths):\n",
    "#     real_val_X_nlp[i,after_last]  = n_classes_disc - 1   \n",
    "    \n",
    "# #Shifting Real Target\n",
    "# B = real_val_X.size(0)\n",
    "# S = real_val_X.size(1)\n",
    "# E = real_val_X.size(2)\n",
    "\n",
    "# Input_shifted = real_val_X[:,1:]\n",
    "# Zero_at_the_end = torch.zeros((B,1,E))\n",
    "# targets_real = torch.cat((Input_shifted,Zero_at_the_end),1) \n",
    "\n",
    "# #Shifting NLP Target\n",
    "# Input_shifted = real_val_X_nlp[:,1:]\n",
    "# Zero_at_the_end = torch.zeros((B,1))\n",
    "# targets_nlp = torch.cat((Input_shifted,Zero_at_the_end),1)"
   ]
  },
  {
   "cell_type": "code",
   "execution_count": 57,
   "id": "1c7d8045-370b-43b8-969f-b145967f334c",
   "metadata": {},
   "outputs": [],
   "source": [
    "# real_val_X = real_val_X[:,:400]\n",
    "# real_val_masks = real_val_masks[:,:400]\n",
    "# targets_real = targets_real[:,:400]\n",
    "# targets_nlp = targets_nlp[:,:400]\n",
    "\n",
    "\n",
    "# params_dataloader = {'shuffle': False,'num_workers':8 ,'batch_size':128} # No need to shuffle rn, they are all the same class\n",
    "# dataset = torch.utils.data.TensorDataset(real_val_X, targets_real, targets_nlp.long(), real_val_masks)\n",
    "# val_dataloader  = torch.utils.data.DataLoader(dataset, **params_dataloader)"
   ]
  },
  {
   "cell_type": "markdown",
   "id": "04a66c26-3e0a-44e5-9c89-7075e49907cc",
   "metadata": {},
   "source": [
    "# TST"
   ]
  },
  {
   "cell_type": "code",
   "execution_count": 12,
   "id": "2f896001-4f2c-4818-9525-e59267dfb279",
   "metadata": {},
   "outputs": [],
   "source": [
    "class PositionalEncoding(nn.Module):\n",
    "\n",
    "    def __init__(self, d_model, dropout=0.1, max_len=5000):\n",
    "        super(PositionalEncoding, self).__init__()\n",
    "        self.dropout = nn.Dropout(p=dropout)\n",
    "\n",
    "        pe = torch.zeros(max_len, d_model)\n",
    "        position = torch.arange(0, max_len, dtype=torch.float).unsqueeze(1)\n",
    "        div_term = torch.exp(torch.arange(0, d_model, 2).float() * (-math.log(10000.0) / d_model))\n",
    "        pe[:, 0::2] = torch.sin(position * div_term)\n",
    "        pe[:, 1::2] = torch.cos(position * div_term)\n",
    "        pe = pe.unsqueeze(0).transpose(0, 1)\n",
    "        self.register_buffer('pe', pe)\n",
    "\n",
    "    def forward(self, x):\n",
    "        x = x + self.pe[:x.size(0), :]\n",
    "        return self.dropout(x)"
   ]
  },
  {
   "cell_type": "code",
   "execution_count": 13,
   "id": "3e147f88-9c5e-468e-bfb2-6e674538d06e",
   "metadata": {},
   "outputs": [],
   "source": [
    "class TimeSeriesTransformer(pl.LightningModule):\n",
    "\n",
    "    def __init__(self, n_features=9, d_model=256, n_heads=8, n_hidden=256, n_layers=8, dropout=0.0, S=400):\n",
    "        super().__init__()\n",
    "        self.model_type = 'Time Series Transformer Model'\n",
    "        self.InputLinear = nn.Linear(n_features, d_model)\n",
    "        \n",
    "        self.positional_encoding = PositionalEncoding(d_model, dropout)\n",
    "        encoder_layers = TransformerEncoderLayer(d_model, n_heads, n_hidden, dropout, batch_first=True)\n",
    "        self.transformer_encoder = TransformerEncoder(encoder_layers, n_layers)\n",
    "        \n",
    "        self.d_model = d_model\n",
    "        self.n_features = n_features\n",
    "        \n",
    "        self.OutputLinear = nn.Linear(d_model, n_features) # The output of the encoder is similar to the input of the encoder, both are (B,S,d_model)\n",
    "        self.init_weights()\n",
    "        self.activation = nn.Sigmoid() \n",
    "        \n",
    "    def generate_square_subsequent_mask(self, sz):\n",
    "        mask = (torch.triu(torch.ones(sz, sz)) == 1).transpose(0, 1)\n",
    "        mask = mask.float().masked_fill(mask == 0, float(-1e6)).masked_fill(mask == 1, float(0.0))\n",
    "        return mask \n",
    "\n",
    "    def init_weights(self):\n",
    "        initrange = 0.1\n",
    "        self.InputLinear.weight.data.uniform_(-initrange, initrange)\n",
    "        self.OutputLinear.bias.data.zero_()\n",
    "        self.OutputLinear.weight.data.uniform_(-initrange, initrange)\n",
    "\n",
    "    def forward(self, src, src_mask,padding_mask):\n",
    "        src = self.InputLinear(src) * math.sqrt(self.d_model)\n",
    "        src = self.positional_encoding(src)\n",
    "        output = self.transformer_encoder(src, src_mask,padding_mask)\n",
    "        output_nlp = self.OutputLinear(output)\n",
    "        return   output_nlp \n",
    "    \n",
    "    def training_step(self, batch, batch_idx):\n",
    "\n",
    "        X,target_nlp,padding_mask = batch\n",
    "        src_mask = self.generate_square_subsequent_mask(S).cuda()\n",
    "        class_probs  = self(X,src_mask,padding_mask)\n",
    "        loss_nlp = nn.CrossEntropyLoss(ignore_index=n_classes_disc-1 )(class_probs.view(-1,n_classes_disc), target_nlp.flatten() )\n",
    "          \n",
    "        loss = loss_nlp \n",
    "        return {'loss': loss} # will call loss.backward() on what we return exactly. \n",
    "    \n",
    "    def training_epoch_end(self, outputs):\n",
    "        if((self.current_epoch+1)%100==0):\n",
    "            torch.save(self.state_dict(), 'W_transformer_token_V10.3')\n",
    "        print(\"Epoch Loss:\",torch.stack([x[\"loss\"] for x in outputs]).mean().item())\n",
    "        \n",
    "    # Lightning disables gradients, puts model in eval mode, and does everything needed for validation.\n",
    "    def validation_step(self, batch, batch_idx):\n",
    "        X,target,lengths,padding_mask = batch\n",
    "        X = X.permute(1,0,2)\n",
    "        padding_mask = torch.cat((torch.zeros((X.shape[1],2),dtype=torch.bool), (torch.ones((X.shape[1],398),dtype=torch.bool))),1).cuda()\n",
    "        class_probs  = self(X,None,padding_mask)\n",
    "        lengths -=1\n",
    "        loss = nn.CrossEntropyLoss()(class_probs, lengths )\n",
    "        \n",
    "        self.log('val_loss', loss)\n",
    "        return {'val_loss': loss,} # We may return the predictions themselves\n",
    "    \n",
    "    def validation_epoch_end(self, outputs):\n",
    "        print(\"Validation Loss:\",torch.stack([x[\"val_loss\"] for x in outputs]).mean().item())\n",
    "        \n",
    "    def configure_optimizers(self):\n",
    "        return torch.optim.Adam(self.parameters(), lr=0.01)\n",
    "    \n"
   ]
  },
  {
   "cell_type": "markdown",
   "id": "c498291b-f99f-4f99-902b-4bd5cf178d40",
   "metadata": {},
   "source": [
    "# Training"
   ]
  },
  {
   "cell_type": "markdown",
   "id": "ea22afa8-9519-4be3-a0e6-64da240005c0",
   "metadata": {},
   "source": [
    "**Notes on EarlyStopping:**\n",
    "- The EarlyStopping callback runs at the **end of every validation epoch**, which, under the default configuration, happen after **every training epoch**.\n",
    "-  However, the frequency of validation can be modified by setting various parameters in the Trainer, for example **check_val_every_n_epoch and val_check_interval**.\n",
    "- Note that the **patience** parameter counts the number of **validation epochs with no improvement**, and **not the number of training epochs**. \n",
    "    - Therefore, with parameters **check_val_every_n_epoch=10 and patience=3**, the trainer will perform at least **40 training epochs before being stopped**. "
   ]
  },
  {
   "cell_type": "code",
   "execution_count": 15,
   "id": "7d6deb24-4a45-4cbf-b69b-c27ba32063e4",
   "metadata": {},
   "outputs": [
    {
     "name": "stdout",
     "output_type": "stream",
     "text": [
      "\n"
     ]
    }
   ],
   "source": [
    "d_model = 256\n",
    "model = TimeSeriesTransformer() \n",
    "\n",
    "ck = torch.load('../lightning_logs/version_19/checkpoints/epoch=399-step=76799.ckpt')['state_dict']\n",
    "model.load_state_dict(ck)\n",
    "for param in model.parameters():\n",
    "    param.requires_grad = False\n",
    "\n",
    "model.OutputLinear  = nn.Sequential(nn.Linear(d_model,512) , nn.ReLU(), nn.Linear(512,n_classes_disc) )\n",
    "\n",
    "\n",
    "# model.load_state_dict(torch.load('W_transformer_token_V10.1'))\n",
    "# model.eval()\n",
    "print()"
   ]
  },
  {
   "cell_type": "code",
   "execution_count": 16,
   "id": "a4a2c98b-72bd-483a-8c15-542e2f5f6231",
   "metadata": {
    "tags": []
   },
   "outputs": [
    {
     "name": "stderr",
     "output_type": "stream",
     "text": [
      "GPU available: True, used: True\n",
      "TPU available: False, using: 0 TPU cores\n",
      "/rhome/yelnady/.local/lib/python3.8/site-packages/pytorch_lightning/utilities/distributed.py:52: UserWarning: you defined a validation_step but have no val_dataloader. Skipping validation loop\n",
      "  warnings.warn(*args, **kwargs)\n",
      "LOCAL_RANK: 0 - CUDA_VISIBLE_DEVICES: [0,1]\n",
      "\n",
      "  | Name                | Type               | Params\n",
      "-----------------------------------------------------------\n",
      "0 | InputLinear         | Linear             | 2.6 K \n",
      "1 | positional_encoding | PositionalEncoding | 0     \n",
      "2 | transformer_encoder | TransformerEncoder | 3.2 M \n",
      "3 | OutputLinear        | Sequential         | 146 K \n",
      "4 | activation          | Sigmoid            | 0     \n",
      "-----------------------------------------------------------\n",
      "146 K     Trainable params\n",
      "3.2 M     Non-trainable params\n",
      "3.3 M     Total params\n",
      "13.263    Total estimated model params size (MB)\n"
     ]
    },
    {
     "data": {
      "application/vnd.jupyter.widget-view+json": {
       "model_id": "",
       "version_major": 2,
       "version_minor": 0
      },
      "text/plain": [
       "Validation sanity check: 0it [00:00, ?it/s]"
      ]
     },
     "metadata": {},
     "output_type": "display_data"
    },
    {
     "data": {
      "application/vnd.jupyter.widget-view+json": {
       "model_id": "30e0be0e7c91428d92ce91481000299e",
       "version_major": 2,
       "version_minor": 0
      },
      "text/plain": [
       "Training: 0it [00:00, ?it/s]"
      ]
     },
     "metadata": {},
     "output_type": "display_data"
    },
    {
     "name": "stdout",
     "output_type": "stream",
     "text": [
      "Epoch Loss: 2.6649389266967773\n",
      "Epoch Loss: 2.3833823204040527\n",
      "Epoch Loss: 2.342151165008545\n",
      "Epoch Loss: 2.282804489135742\n",
      "Epoch Loss: 2.2861528396606445\n",
      "Epoch Loss: 2.257906436920166\n",
      "Epoch Loss: 2.243830442428589\n",
      "Epoch Loss: 2.2322957515716553\n",
      "Epoch Loss: 2.2051119804382324\n",
      "Epoch Loss: 2.2101101875305176\n",
      "Epoch Loss: 2.237795352935791\n",
      "Epoch Loss: 2.20623779296875\n",
      "Epoch Loss: 2.2190780639648438\n",
      "Epoch Loss: 2.232404947280884\n"
     ]
    },
    {
     "name": "stderr",
     "output_type": "stream",
     "text": [
      "/rhome/yelnady/.local/lib/python3.8/site-packages/pytorch_lightning/utilities/distributed.py:52: UserWarning: Detected KeyboardInterrupt, attempting graceful shutdown...\n",
      "  warnings.warn(*args, **kwargs)\n"
     ]
    },
    {
     "name": "stdout",
     "output_type": "stream",
     "text": [
      "Total Time (in minutes) is 0:09:56.236461\n",
      "/rdata/yelnady/DoppelGANger/Token/lightning_logs/version_8/checkpoints/epoch=14-step=1397.ckpt\n"
     ]
    }
   ],
   "source": [
    "# RuntimeError: CUDA error: device-side assert triggered --> The problem it needs to be 0-399 not 1-400\n",
    "def main():\n",
    "    # pl.seed_everything(42, workers=True) --> sets seeds for numpy, torch, python.random and PYTHONHASHSEED.\n",
    "    time_all = time()\n",
    "\n",
    "    early_stop_callback = EarlyStopping(monitor='val_loss',patience=5, verbose=False, mode='min')\n",
    "    checkpoint_callback = ModelCheckpoint()\n",
    "#     trainer = pl.Trainer(gpus=2,max_epochs=400, progress_bar_refresh_rate=50,accelerator ='ddp',\n",
    "#                         callbacks=[early_stop_callback,checkpoint_callback]\n",
    "#                          ,plugins=DDPPlugin(find_unused_parameters=False,check_val_every_n_epoch=2))\n",
    "    \n",
    "    \n",
    "    trainer = pl.Trainer(gpus=1,max_epochs=400, progress_bar_refresh_rate=50,check_val_every_n_epoch=3,\n",
    "                        callbacks=[checkpoint_callback],)\n",
    "    trainer.fit(model,train_dataloader)\n",
    "    print(\"Total Time (in minutes) is {}\".format( timedelta(seconds=(time()-time_all))))\n",
    "    print(checkpoint_callback.best_model_path)\n",
    "\n",
    "if __name__ == '__main__':\n",
    "    main()"
   ]
  },
  {
   "cell_type": "code",
   "execution_count": 67,
   "id": "6bee552c-0365-4425-a262-692d0185f5ce",
   "metadata": {},
   "outputs": [
    {
     "data": {
      "text/plain": [
       "226"
      ]
     },
     "execution_count": 67,
     "metadata": {},
     "output_type": "execute_result"
    }
   ],
   "source": [
    "gc.collect()"
   ]
  },
  {
   "cell_type": "code",
   "execution_count": 63,
   "id": "89acb2e0-f97e-4c93-a3b9-15e796894247",
   "metadata": {},
   "outputs": [],
   "source": [
    "#Last time it was 1.13"
   ]
  },
  {
   "cell_type": "code",
   "execution_count": null,
   "id": "17fb66be-281e-4283-bd10-c4b6a6073053",
   "metadata": {},
   "outputs": [],
   "source": []
  },
  {
   "cell_type": "code",
   "execution_count": null,
   "id": "e438c9e1-67cd-4a13-b69d-460e966f066b",
   "metadata": {},
   "outputs": [],
   "source": []
  }
 ],
 "metadata": {
  "kernelspec": {
   "display_name": "Python 3",
   "language": "python",
   "name": "python3"
  },
  "language_info": {
   "codemirror_mode": {
    "name": "ipython",
    "version": 3
   },
   "file_extension": ".py",
   "mimetype": "text/x-python",
   "name": "python",
   "nbconvert_exporter": "python",
   "pygments_lexer": "ipython3",
   "version": "3.8.5"
  },
  "widgets": {
   "application/vnd.jupyter.widget-state+json": {
    "state": {},
    "version_major": 2,
    "version_minor": 0
   }
  }
 },
 "nbformat": 4,
 "nbformat_minor": 5
}
