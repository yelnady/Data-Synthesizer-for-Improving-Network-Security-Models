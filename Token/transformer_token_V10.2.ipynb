{
 "cells": [
  {
   "cell_type": "markdown",
   "id": "f3f5ad86-4248-4226-943d-0bc26a03e80e",
   "metadata": {},
   "source": [
    "# Required Imports"
   ]
  },
  {
   "cell_type": "code",
   "execution_count": 1,
   "id": "4a618acb-32dc-4450-a211-32bba60b2f60",
   "metadata": {},
   "outputs": [],
   "source": [
    "import sys, random, math, pickle\n",
    "from time import time\n",
    "import numpy as np\n",
    "import gc\n",
    "import matplotlib\n",
    "import matplotlib.pyplot as plt\n",
    "import torch\n",
    "from torch import nn\n",
    "from torch.nn import MSELoss\n",
    "import torch.nn.functional as F\n",
    "from datetime import timedelta\n",
    "from torch.nn import TransformerEncoder, TransformerEncoderLayer\n",
    "import pytorch_lightning as pl\n",
    "import torchmetrics.functional as FM\n",
    "from pytorch_lightning.callbacks.early_stopping import EarlyStopping\n",
    "from pytorch_lightning.plugins import DDPPlugin\n",
    "from pytorch_lightning.callbacks import ModelCheckpoint\n",
    "from sklearn.preprocessing import KBinsDiscretizer\n",
    "sys.path.append('../DG/gan')"
   ]
  },
  {
   "cell_type": "markdown",
   "id": "fbddef74-d62f-43c4-b7d0-cd6e45ac955b",
   "metadata": {},
   "source": [
    "# Loading Real Train Data"
   ]
  },
  {
   "cell_type": "code",
   "execution_count": 2,
   "id": "f63d9569-72bc-46f5-987f-64a4d1dbb42f",
   "metadata": {},
   "outputs": [],
   "source": [
    "def get_one_class(X,Y_labels,flag,class_label):\n",
    "    indices_class_label = np.where(Y_labels==class_label)\n",
    "    return X[indices_class_label], Y_labels[indices_class_label], flag[indices_class_label] \n",
    "    \n",
    "def get_n_samples(X,Y_labels,flag,n_samples):\n",
    "    randomList = random.sample(range(0, Y_labels.shape[0]), n_samples)\n",
    "    return X[randomList], Y_labels[randomList], flag[randomList]\n",
    "\n",
    "# In real data, if flag sum is 1 --> Then no timestep at all. \n",
    "            # So we do remove those ones by converting them to zeros, then return only non-zero flags indices\n",
    "# In real data, there is no flag of length ZERO\n",
    "def remove_zero_datapoints(X,Y_labels,flag):\n",
    "    indices_non_zero = torch.nonzero(torch.sum(flag,1)-1).squeeze()\n",
    "    return X[indices_non_zero], Y_labels[indices_non_zero], flag[indices_non_zero]\n"
   ]
  },
  {
   "cell_type": "code",
   "execution_count": 3,
   "id": "f052e082-0bba-43c0-9cab-0eab5f14d56a",
   "metadata": {},
   "outputs": [],
   "source": [
    "training_real = np.load('../data/google/data_train_reduced.npz')\n",
    "\n",
    "real_train_X = torch.from_numpy(training_real['data_feature']).float() #[50000, 2500, 9]\n",
    "real_train_Y = torch.from_numpy(training_real['data_attribute']) #[50000,4]\n",
    "real_train_Y_labels = torch.argmax(real_train_Y,1) #[50000,]  returns a list of the class label, no one hot encoding any more\n",
    "real_train_flags = torch.from_numpy(training_real['data_gen_flag'])   # (50000, 2500)\n",
    "\n",
    "real_train_X,real_train_Y_labels,real_train_flags = remove_zero_datapoints(real_train_X,real_train_Y_labels,real_train_flags)\n",
    "\n",
    "real_train_lengths = torch.sum(real_train_flags,1).long()\n",
    "\n",
    "real_train_masks = real_train_flags == 0"
   ]
  },
  {
   "cell_type": "code",
   "execution_count": 4,
   "id": "8e442d72-09bb-44db-9d9f-877d37b5a96a",
   "metadata": {},
   "outputs": [],
   "source": [
    "val_real = np.load('../data/google/data_train_val.npz')\n",
    "\n",
    "real_val_X = torch.from_numpy(val_real['data_feature']).float() #[50000, 2500, 9]\n",
    "real_val_Y = torch.from_numpy(val_real['data_attribute']) #[50000,4]\n",
    "real_val_Y_labels = torch.argmax(real_val_Y,1) #[50000,]  returns a list of the class label, no one hot encoding any more\n",
    "real_val_flags = torch.from_numpy(val_real['data_gen_flag'])   # (50000, 2500)\n",
    "\n",
    "real_val_X,real_val_Y_labels,real_val_flags = remove_zero_datapoints(real_val_X,real_val_Y_labels,real_val_flags)\n",
    "\n",
    "real_val_masks = real_val_flags == 0\n",
    "\n",
    "real_val_lengths = torch.sum(real_val_flags,1).long()"
   ]
  },
  {
   "cell_type": "markdown",
   "id": "a9cd9a80-dc8d-4086-8a97-7532b4d4e5b8",
   "metadata": {},
   "source": [
    "# Ideas of V10"
   ]
  },
  {
   "cell_type": "markdown",
   "id": "9bfd7c93-ef2b-4d20-9e8a-04c269e16022",
   "metadata": {},
   "source": [
    "- Feed Only data (real-valued), have two linear outputs, one is softmax as a classifier --> The last one is end token, another class --> We will discretize (Is it shifted or not)\n",
    "- We will need also to have the real-valued data outputted.\n",
    "- We need to see how to combine the nine features using mean."
   ]
  },
  {
   "cell_type": "markdown",
   "id": "b5df5559-645f-4ca9-9f76-09a86ae237d7",
   "metadata": {},
   "source": [
    "## Important\n",
    "\n",
    "- We don't shift the mask, so (last real value) should give (zero) and (end token).\n",
    "- We add the end token for the first zero, after all values\n",
    "- We also shift the nlp\n",
    "- Only 53 and 56 are greater than 400 timesteps for both train and val, respectively"
   ]
  },
  {
   "cell_type": "markdown",
   "id": "8b1b8ad6-8903-4ed4-ab6f-086bb600951c",
   "metadata": {},
   "source": [
    "# Discretizaiton"
   ]
  },
  {
   "cell_type": "markdown",
   "id": "28b315aa-c75b-4e38-9c2e-f8ba983ee927",
   "metadata": {},
   "source": [
    "1. Get Discretized Version (300-1)  --> Classes [0,298]\n",
    "2. Add end token using the lengths array after the last time step --> EOS = 299\n",
    "3. Shift one step, so the last timestep is expected to predict (end token).\n",
    "4. We don't need to change the mask at all. Since everything is taken into consideration"
   ]
  },
  {
   "cell_type": "code",
   "execution_count": 5,
   "id": "79c28ed1-a854-4c33-acde-bf318c9e0c73",
   "metadata": {},
   "outputs": [],
   "source": [
    "n_classes_disc = 300"
   ]
  },
  {
   "cell_type": "code",
   "execution_count": 6,
   "id": "519d2d39-6083-475a-a69a-0845e6316596",
   "metadata": {},
   "outputs": [],
   "source": [
    "#Discretizing\n",
    "est_train = KBinsDiscretizer(n_bins=n_classes_disc-1,encode='ordinal', strategy='uniform')\n",
    "\n",
    "real_train_X_nlp = real_train_X.mean(2)\n",
    "real_train_X_nlp = est_train.fit_transform(real_train_X_nlp.view(-1,1))\n",
    "real_train_X_nlp = torch.Tensor(real_train_X_nlp).view(real_train_X.shape[0], real_train_X.shape[1])\n",
    "# est_train.bin_edges_\n",
    "\n",
    "#Adding End Token\n",
    "for i,after_last in enumerate(real_train_lengths):\n",
    "    real_train_X_nlp[i,after_last]  = n_classes_disc - 1   \n",
    "    \n",
    "B = real_train_X.size(0)\n",
    "S = real_train_X.size(1)\n",
    "E = real_train_X.size(2)\n",
    "\n",
    "#Shifting NLP Target\n",
    "Input_shifted = real_train_X_nlp[:,1:]\n",
    "Zero_at_the_end = torch.zeros((B,1))\n",
    "targets_nlp = torch.cat((Input_shifted,Zero_at_the_end),1)"
   ]
  },
  {
   "cell_type": "code",
   "execution_count": 7,
   "id": "03c3ffc6-7aa6-4ac0-bbee-932bf4716dae",
   "metadata": {
    "collapsed": true,
    "jupyter": {
     "outputs_hidden": true
    },
    "tags": []
   },
   "outputs": [
    {
     "data": {
      "text/plain": [
       "(array([array([0.        , 0.00100641, 0.00201282, 0.00301923, 0.00402564,\n",
       "               0.00503204, 0.00603845, 0.00704486, 0.00805127, 0.00905768,\n",
       "               0.01006409, 0.0110705 , 0.01207691, 0.01308331, 0.01408972,\n",
       "               0.01509613, 0.01610254, 0.01710895, 0.01811536, 0.01912177,\n",
       "               0.02012818, 0.02113458, 0.02214099, 0.0231474 , 0.02415381,\n",
       "               0.02516022, 0.02616663, 0.02717304, 0.02817945, 0.02918585,\n",
       "               0.03019226, 0.03119867, 0.03220508, 0.03321149, 0.0342179 ,\n",
       "               0.03522431, 0.03623072, 0.03723712, 0.03824353, 0.03924994,\n",
       "               0.04025635, 0.04126276, 0.04226917, 0.04327558, 0.04428199,\n",
       "               0.0452884 , 0.0462948 , 0.04730121, 0.04830762, 0.04931403,\n",
       "               0.05032044, 0.05132685, 0.05233326, 0.05333967, 0.05434607,\n",
       "               0.05535248, 0.05635889, 0.0573653 , 0.05837171, 0.05937812,\n",
       "               0.06038453, 0.06139094, 0.06239734, 0.06340375, 0.06441016,\n",
       "               0.06541657, 0.06642298, 0.06742939, 0.0684358 , 0.06944221,\n",
       "               0.07044861, 0.07145502, 0.07246143, 0.07346784, 0.07447425,\n",
       "               0.07548066, 0.07648707, 0.07749348, 0.07849988, 0.07950629,\n",
       "               0.0805127 , 0.08151911, 0.08252552, 0.08353193, 0.08453834,\n",
       "               0.08554475, 0.08655115, 0.08755756, 0.08856397, 0.08957038,\n",
       "               0.09057679, 0.0915832 , 0.09258961, 0.09359602, 0.09460243,\n",
       "               0.09560883, 0.09661524, 0.09762165, 0.09862806, 0.09963447,\n",
       "               0.10064088, 0.10164729, 0.1026537 , 0.1036601 , 0.10466651,\n",
       "               0.10567292, 0.10667933, 0.10768574, 0.10869215, 0.10969856,\n",
       "               0.11070497, 0.11171137, 0.11271778, 0.11372419, 0.1147306 ,\n",
       "               0.11573701, 0.11674342, 0.11774983, 0.11875624, 0.11976264,\n",
       "               0.12076905, 0.12177546, 0.12278187, 0.12378828, 0.12479469,\n",
       "               0.1258011 , 0.12680751, 0.12781391, 0.12882032, 0.12982673,\n",
       "               0.13083314, 0.13183955, 0.13284596, 0.13385237, 0.13485878,\n",
       "               0.13586519, 0.13687159, 0.137878  , 0.13888441, 0.13989082,\n",
       "               0.14089723, 0.14190364, 0.14291005, 0.14391646, 0.14492286,\n",
       "               0.14592927, 0.14693568, 0.14794209, 0.1489485 , 0.14995491,\n",
       "               0.15096132, 0.15196773, 0.15297413, 0.15398054, 0.15498695,\n",
       "               0.15599336, 0.15699977, 0.15800618, 0.15901259, 0.160019  ,\n",
       "               0.1610254 , 0.16203181, 0.16303822, 0.16404463, 0.16505104,\n",
       "               0.16605745, 0.16706386, 0.16807027, 0.16907667, 0.17008308,\n",
       "               0.17108949, 0.1720959 , 0.17310231, 0.17410872, 0.17511513,\n",
       "               0.17612154, 0.17712794, 0.17813435, 0.17914076, 0.18014717,\n",
       "               0.18115358, 0.18215999, 0.1831664 , 0.18417281, 0.18517922,\n",
       "               0.18618562, 0.18719203, 0.18819844, 0.18920485, 0.19021126,\n",
       "               0.19121767, 0.19222408, 0.19323049, 0.19423689, 0.1952433 ,\n",
       "               0.19624971, 0.19725612, 0.19826253, 0.19926894, 0.20027535,\n",
       "               0.20128176, 0.20228816, 0.20329457, 0.20430098, 0.20530739,\n",
       "               0.2063138 , 0.20732021, 0.20832662, 0.20933303, 0.21033943,\n",
       "               0.21134584, 0.21235225, 0.21335866, 0.21436507, 0.21537148,\n",
       "               0.21637789, 0.2173843 , 0.2183907 , 0.21939711, 0.22040352,\n",
       "               0.22140993, 0.22241634, 0.22342275, 0.22442916, 0.22543557,\n",
       "               0.22644198, 0.22744838, 0.22845479, 0.2294612 , 0.23046761,\n",
       "               0.23147402, 0.23248043, 0.23348684, 0.23449325, 0.23549965,\n",
       "               0.23650606, 0.23751247, 0.23851888, 0.23952529, 0.2405317 ,\n",
       "               0.24153811, 0.24254452, 0.24355092, 0.24455733, 0.24556374,\n",
       "               0.24657015, 0.24757656, 0.24858297, 0.24958938, 0.25059579,\n",
       "               0.25160219, 0.2526086 , 0.25361501, 0.25462142, 0.25562783,\n",
       "               0.25663424, 0.25764065, 0.25864706, 0.25965346, 0.26065987,\n",
       "               0.26166628, 0.26267269, 0.2636791 , 0.26468551, 0.26569192,\n",
       "               0.26669833, 0.26770474, 0.26871114, 0.26971755, 0.27072396,\n",
       "               0.27173037, 0.27273678, 0.27374319, 0.2747496 , 0.27575601,\n",
       "               0.27676241, 0.27776882, 0.27877523, 0.27978164, 0.28078805,\n",
       "               0.28179446, 0.28280087, 0.28380728, 0.28481368, 0.28582009,\n",
       "               0.2868265 , 0.28783291, 0.28883932, 0.28984573, 0.29085214,\n",
       "               0.29185855, 0.29286495, 0.29387136, 0.29487777, 0.29588418,\n",
       "               0.29689059, 0.297897  , 0.29890341, 0.29990982, 0.30091622])],\n",
       "       dtype=object),\n",
       " tensor(0.3009),\n",
       " tensor(2.7082))"
      ]
     },
     "execution_count": 7,
     "metadata": {},
     "output_type": "execute_result"
    }
   ],
   "source": [
    "est_train.bin_edges_, torch.max(real_train_X.mean(2)), torch.max(real_train_X.sum(2))"
   ]
  },
  {
   "cell_type": "code",
   "execution_count": 8,
   "id": "7e49cfa0-21e9-4436-ad83-e581abe73793",
   "metadata": {},
   "outputs": [],
   "source": [
    "real_train_X_nlp = real_train_X_nlp[:,:400]\n",
    "real_train_masks = real_train_masks[:,:400]\n",
    "targets_nlp= targets_nlp[:,:400]\n",
    "\n",
    "params_dataloader = {'shuffle': True,'num_workers':8 ,'batch_size':128} # No need to shuffle rn, they are all the same class\n",
    "dataset = torch.utils.data.TensorDataset(real_train_X_nlp.long(), targets_nlp.long(), real_train_masks)\n",
    "train_dataloader  = torch.utils.data.DataLoader(dataset, **params_dataloader)"
   ]
  },
  {
   "cell_type": "code",
   "execution_count": 11,
   "id": "ddee966b-8348-410c-81a5-d11f50c0cc1d",
   "metadata": {},
   "outputs": [
    {
     "data": {
      "text/plain": [
       "tensor([[ 15,  15,  16,  16,  17,  18,  18,  18,   3, 299],\n",
       "        [  0,   4,   4,   4,   4,   0, 299,   0,   0,   0],\n",
       "        [ 10,  13,  14,  13,  14,  15,  17,  14,   3, 299],\n",
       "        [ 17,  16,  14,  15,   1, 299,   0,   0,   0,   0],\n",
       "        [  0,   3,   6,   5,   0, 299,   0,   0,   0,   0],\n",
       "        [  0,   2,   2,   0, 299,   0,   0,   0,   0,   0],\n",
       "        [  0,   0,  18,  12,   0, 299,   0,   0,   0,   0],\n",
       "        [  0,  29,  55,  52,  49,  55,  50,  67,  47,  29],\n",
       "        [  0,   6,   0, 299,   0,   0,   0,   0,   0,   0],\n",
       "        [  3,   0, 299,   0,   0,   0,   0,   0,   0,   0]])"
      ]
     },
     "execution_count": 11,
     "metadata": {},
     "output_type": "execute_result"
    }
   ],
   "source": [
    "real_train_X_nlp.long()[:10,:10]"
   ]
  },
  {
   "cell_type": "code",
   "execution_count": 8,
   "id": "f134f338-5646-4e2a-a4c3-a09d4ad22049",
   "metadata": {},
   "outputs": [
    {
     "ename": "NameError",
     "evalue": "name 'real_val_X' is not defined",
     "output_type": "error",
     "traceback": [
      "\u001b[0;31m---------------------------------------------------------------------------\u001b[0m",
      "\u001b[0;31mNameError\u001b[0m                                 Traceback (most recent call last)",
      "\u001b[0;32m<ipython-input-8-5c40554702b8>\u001b[0m in \u001b[0;36m<module>\u001b[0;34m\u001b[0m\n\u001b[1;32m      2\u001b[0m \u001b[0mest_val\u001b[0m \u001b[0;34m=\u001b[0m \u001b[0mKBinsDiscretizer\u001b[0m\u001b[0;34m(\u001b[0m\u001b[0mn_bins\u001b[0m\u001b[0;34m=\u001b[0m\u001b[0mn_classes_disc\u001b[0m\u001b[0;34m-\u001b[0m\u001b[0;36m1\u001b[0m\u001b[0;34m,\u001b[0m\u001b[0mencode\u001b[0m\u001b[0;34m=\u001b[0m\u001b[0;34m'ordinal'\u001b[0m\u001b[0;34m,\u001b[0m \u001b[0mstrategy\u001b[0m\u001b[0;34m=\u001b[0m\u001b[0;34m'uniform'\u001b[0m\u001b[0;34m)\u001b[0m\u001b[0;34m\u001b[0m\u001b[0;34m\u001b[0m\u001b[0m\n\u001b[1;32m      3\u001b[0m \u001b[0;34m\u001b[0m\u001b[0m\n\u001b[0;32m----> 4\u001b[0;31m \u001b[0mreal_val_X_nlp\u001b[0m \u001b[0;34m=\u001b[0m \u001b[0mreal_val_X\u001b[0m\u001b[0;34m.\u001b[0m\u001b[0msum\u001b[0m\u001b[0;34m(\u001b[0m\u001b[0;36m2\u001b[0m\u001b[0;34m)\u001b[0m\u001b[0;34m\u001b[0m\u001b[0;34m\u001b[0m\u001b[0m\n\u001b[0m\u001b[1;32m      5\u001b[0m \u001b[0mreal_val_X_nlp\u001b[0m \u001b[0;34m=\u001b[0m \u001b[0mest_val\u001b[0m\u001b[0;34m.\u001b[0m\u001b[0mfit_transform\u001b[0m\u001b[0;34m(\u001b[0m\u001b[0mreal_val_X_nlp\u001b[0m\u001b[0;34m.\u001b[0m\u001b[0mview\u001b[0m\u001b[0;34m(\u001b[0m\u001b[0;34m-\u001b[0m\u001b[0;36m1\u001b[0m\u001b[0;34m,\u001b[0m\u001b[0;36m1\u001b[0m\u001b[0;34m)\u001b[0m\u001b[0;34m)\u001b[0m\u001b[0;34m\u001b[0m\u001b[0;34m\u001b[0m\u001b[0m\n\u001b[1;32m      6\u001b[0m \u001b[0mreal_val_X_nlp\u001b[0m \u001b[0;34m=\u001b[0m \u001b[0mtorch\u001b[0m\u001b[0;34m.\u001b[0m\u001b[0mTensor\u001b[0m\u001b[0;34m(\u001b[0m\u001b[0mreal_val_X_nlp\u001b[0m\u001b[0;34m)\u001b[0m\u001b[0;34m.\u001b[0m\u001b[0mview\u001b[0m\u001b[0;34m(\u001b[0m\u001b[0mreal_val_X\u001b[0m\u001b[0;34m.\u001b[0m\u001b[0mshape\u001b[0m\u001b[0;34m[\u001b[0m\u001b[0;36m0\u001b[0m\u001b[0;34m]\u001b[0m\u001b[0;34m,\u001b[0m \u001b[0mreal_val_X\u001b[0m\u001b[0;34m.\u001b[0m\u001b[0mshape\u001b[0m\u001b[0;34m[\u001b[0m\u001b[0;36m1\u001b[0m\u001b[0;34m]\u001b[0m\u001b[0;34m)\u001b[0m\u001b[0;34m\u001b[0m\u001b[0;34m\u001b[0m\u001b[0m\n",
      "\u001b[0;31mNameError\u001b[0m: name 'real_val_X' is not defined"
     ]
    }
   ],
   "source": [
    "#Discretizing\n",
    "est_val = KBinsDiscretizer(n_bins=n_classes_disc-1,encode='ordinal', strategy='uniform')\n",
    "\n",
    "real_val_X_nlp = real_val_X.sum(2)\n",
    "real_val_X_nlp = est_val.fit_transform(real_val_X_nlp.view(-1,1))\n",
    "real_val_X_nlp = torch.Tensor(real_val_X_nlp).view(real_val_X.shape[0], real_val_X.shape[1])\n",
    "# est.bin_edges_\n",
    "\n",
    "#Adding End Token\n",
    "for i,after_last in enumerate(real_val_lengths):\n",
    "    real_val_X_nlp[i,after_last]  = n_classes_disc - 1   \n",
    "    \n",
    "#Shifting Real Target\n",
    "B = real_val_X.size(0)\n",
    "S = real_val_X.size(1)\n",
    "E = real_val_X.size(2)\n",
    "\n",
    "Input_shifted = real_val_X[:,1:]\n",
    "Zero_at_the_end = torch.zeros((B,1,E))\n",
    "targets_real = torch.cat((Input_shifted,Zero_at_the_end),1) \n",
    "\n",
    "#Shifting NLP Target\n",
    "Input_shifted = real_val_X_nlp[:,1:]\n",
    "Zero_at_the_end = torch.zeros((B,1))\n",
    "targets_nlp = torch.cat((Input_shifted,Zero_at_the_end),1)"
   ]
  },
  {
   "cell_type": "code",
   "execution_count": 37,
   "id": "1c7d8045-370b-43b8-969f-b145967f334c",
   "metadata": {},
   "outputs": [],
   "source": [
    "real_val_X = real_val_X[:,:400]\n",
    "real_val_masks = real_val_masks[:,:400]\n",
    "targets_real = targets_real[:,:400]\n",
    "targets_nlp = targets_nlp[:,:400]\n",
    "\n",
    "\n",
    "params_dataloader = {'shuffle': False,'num_workers':8 ,'batch_size':128} # No need to shuffle rn, they are all the same class\n",
    "dataset = torch.utils.data.TensorDataset(real_val_X, targets_real, targets_nlp.long(), real_val_masks)\n",
    "val_dataloader  = torch.utils.data.DataLoader(dataset, **params_dataloader)"
   ]
  },
  {
   "cell_type": "code",
   "execution_count": 15,
   "id": "7afef3cc-420d-4d79-bb93-b3ac97dab6fd",
   "metadata": {
    "collapsed": true,
    "jupyter": {
     "outputs_hidden": true
    },
    "tags": []
   },
   "outputs": [
    {
     "data": {
      "text/plain": [
       "tensor([[ 26.,  48.,   0., 399.,   0.,   0.,   0.,   0.,   0.,   0.],\n",
       "        [  1., 399.,   0.,   0.,   0.,   0.,   0.,   0.,   0.,   0.],\n",
       "        [  4.,  39.,  38.,  26.,   1., 399.,   0.,   0.,   0.,   0.],\n",
       "        [ 14.,  20.,  20.,  21.,  21.,  21.,  21.,  22.,   4., 399.],\n",
       "        [  0.,   0.,   0.,   8.,  95., 153., 117.,   0., 399.,   0.],\n",
       "        [ 64.,  57.,  51.,   0., 399.,   0.,   0.,   0.,   0.,   0.],\n",
       "        [  0.,   0., 399.,   0.,   0.,   0.,   0.,   0.,   0.,   0.],\n",
       "        [  2.,   2.,   2.,   2.,   2.,   2.,   2.,   2.,   2.,   2.],\n",
       "        [  0., 399.,   0.,   0.,   0.,   0.,   0.,   0.,   0.,   0.],\n",
       "        [ 19.,  19.,  18.,  19.,  20.,  21.,  19.,   4., 399.,   0.],\n",
       "        [ 37.,  51.,  39.,  25.,  52.,  27.,   0., 399.,   0.,   0.],\n",
       "        [  4.,   4.,   4.,   3.,   4.,   4.,   4.,   4.,   4.,   3.],\n",
       "        [  7.,   0.,   0., 399.,   0.,   0.,   0.,   0.,   0.,   0.],\n",
       "        [ 12.,  14.,   0., 399.,   0.,   0.,   0.,   0.,   0.,   0.],\n",
       "        [  3.,   0., 399.,   0.,   0.,   0.,   0.,   0.,   0.,   0.],\n",
       "        [  0., 399.,   0.,   0.,   0.,   0.,   0.,   0.,   0.,   0.],\n",
       "        [ 21.,  21.,  23.,  29.,  32.,  26.,  30.,   5., 399.,   0.],\n",
       "        [ 11.,  15.,  11.,  15.,  15.,  16.,  15.,  18.,  17.,  16.],\n",
       "        [  0., 399.,   0.,   0.,   0.,   0.,   0.,   0.,   0.,   0.],\n",
       "        [  3.,  29.,   0., 399.,   0.,   0.,   0.,   0.,   0.,   0.],\n",
       "        [  5.,   0., 399.,   0.,   0.,   0.,   0.,   0.,   0.,   0.],\n",
       "        [ 21.,  23.,  23.,  24.,  27.,  23.,  22.,   5., 399.,   0.],\n",
       "        [  2.,   2.,   2.,   2.,   2.,   2.,   2.,   2.,   2.,   2.],\n",
       "        [  0.,  17.,   0., 399.,   0.,   0.,   0.,   0.,   0.,   0.],\n",
       "        [  0.,  40.,  84., 104.,  39.,  31.,  31.,  39.,   0., 399.],\n",
       "        [  3.,   0., 399.,   0.,   0.,   0.,   0.,   0.,   0.,   0.],\n",
       "        [ 11.,   7.,  27.,   0., 399.,   0.,   0.,   0.,   0.,   0.],\n",
       "        [ 20.,  23.,  26.,  25.,  26.,  26.,  24.,   6., 399.,   0.],\n",
       "        [  0., 399.,   0.,   0.,   0.,   0.,   0.,   0.,   0.,   0.],\n",
       "        [ 18.,  14.,  12.,  14.,  13.,  13.,   0.,   0., 399.,   0.],\n",
       "        [ 21.,  21.,  23.,  21.,  21.,  21.,  18.,   4., 399.,   0.],\n",
       "        [  0., 399.,   0.,   0.,   0.,   0.,   0.,   0.,   0.,   0.],\n",
       "        [ 96.,   6., 399.,   0.,   0.,   0.,   0.,   0.,   0.,   0.],\n",
       "        [  4., 399.,   0.,   0.,   0.,   0.,   0.,   0.,   0.,   0.],\n",
       "        [ 34.,  33.,  30.,  25.,  26.,   0., 399.,   0.,   0.,   0.],\n",
       "        [ 27.,  27.,  28.,  33.,   0., 399.,   0.,   0.,   0.,   0.],\n",
       "        [  0.,  96., 101., 131., 126., 117.,  99., 122., 123., 115.],\n",
       "        [ 14.,   0., 399.,   0.,   0.,   0.,   0.,   0.,   0.,   0.],\n",
       "        [ 17.,   0., 399.,   0.,   0.,   0.,   0.,   0.,   0.,   0.],\n",
       "        [  0.,   5.,   3.,   0., 399.,   0.,   0.,   0.,   0.,   0.]])"
      ]
     },
     "execution_count": 15,
     "metadata": {},
     "output_type": "execute_result"
    }
   ],
   "source": [
    "targets_nlp[200:240,:10]"
   ]
  },
  {
   "cell_type": "code",
   "execution_count": 9,
   "id": "1990a0a9-792c-44eb-bc83-6312f351a0fa",
   "metadata": {},
   "outputs": [],
   "source": [
    "S = 400"
   ]
  },
  {
   "cell_type": "markdown",
   "id": "04a66c26-3e0a-44e5-9c89-7075e49907cc",
   "metadata": {},
   "source": [
    "# TST"
   ]
  },
  {
   "cell_type": "code",
   "execution_count": 10,
   "id": "2f896001-4f2c-4818-9525-e59267dfb279",
   "metadata": {},
   "outputs": [],
   "source": [
    "class PositionalEncoding(nn.Module):\n",
    "\n",
    "    def __init__(self, d_model, dropout=0.1, max_len=5000):\n",
    "        super(PositionalEncoding, self).__init__()\n",
    "        self.dropout = nn.Dropout(p=dropout)\n",
    "\n",
    "        pe = torch.zeros(max_len, d_model)\n",
    "        position = torch.arange(0, max_len, dtype=torch.float).unsqueeze(1)\n",
    "        div_term = torch.exp(torch.arange(0, d_model, 2).float() * (-math.log(10000.0) / d_model))\n",
    "        pe[:, 0::2] = torch.sin(position * div_term)\n",
    "        pe[:, 1::2] = torch.cos(position * div_term)\n",
    "        pe = pe.unsqueeze(0).transpose(0, 1)\n",
    "        self.register_buffer('pe', pe)\n",
    "\n",
    "    def forward(self, x):\n",
    "        x = x + self.pe[:x.size(0), :]\n",
    "        return self.dropout(x)"
   ]
  },
  {
   "cell_type": "code",
   "execution_count": 16,
   "id": "3e147f88-9c5e-468e-bfb2-6e674538d06e",
   "metadata": {},
   "outputs": [],
   "source": [
    "class TimeSeriesTransformer(pl.LightningModule):\n",
    "\n",
    "    def __init__(self, n_features=9, d_model=256, n_heads=8, n_hidden=256, n_layers=8, dropout=0.0, S=400):\n",
    "        super().__init__()\n",
    "        self.model_type = 'Time Series Transformer Model'\n",
    "        self.InputLinear = nn.Linear(n_features, d_model)\n",
    "        \n",
    "        self.positional_encoding = PositionalEncoding(d_model, dropout)\n",
    "        encoder_layers = TransformerEncoderLayer(d_model, n_heads, n_hidden, dropout, batch_first=True)\n",
    "        self.transformer_encoder = TransformerEncoder(encoder_layers, n_layers)\n",
    "        \n",
    "        self.d_model = d_model\n",
    "        self.n_features = n_features\n",
    "        \n",
    "        self.OutputLinear = nn.Linear(d_model, n_features) # The output of the encoder is similar to the input of the encoder, both are (B,S,d_model)\n",
    "        self.init_weights()\n",
    "        self.activation = nn.Sigmoid() \n",
    "        \n",
    "    def generate_square_subsequent_mask(self, sz):\n",
    "        mask = (torch.triu(torch.ones(sz, sz)) == 1).transpose(0, 1)\n",
    "        mask = mask.float().masked_fill(mask == 0, float(-1e6)).masked_fill(mask == 1, float(0.0))\n",
    "        return mask \n",
    "\n",
    "    def init_weights(self):\n",
    "        initrange = 0.1\n",
    "        self.InputLinear.weight.data.uniform_(-initrange, initrange)\n",
    "        self.OutputLinear.bias.data.zero_()\n",
    "        self.OutputLinear.weight.data.uniform_(-initrange, initrange)\n",
    "\n",
    "    def forward(self, src, src_mask,padding_mask):\n",
    "        src = self.InputLinear(src) * math.sqrt(self.d_model)\n",
    "        src = self.positional_encoding(src)\n",
    "        output = self.transformer_encoder(src, src_mask,padding_mask)\n",
    "        output_nlp = self.OutputLinear(output)\n",
    "        return   output_nlp \n",
    "    \n",
    "    def training_step(self, batch, batch_idx):\n",
    "\n",
    "        X,target_nlp,padding_mask = batch\n",
    "        src_mask = self.generate_square_subsequent_mask(S).cuda()\n",
    "        #print(X.shape,src_mask.shape)\n",
    "        class_probs  = self(X,src_mask,padding_mask)\n",
    "        loss_nlp = nn.CrossEntropyLoss()(class_probs.view(-1,n_classes_disc), target_nlp.flatten() )\n",
    "         \n",
    "        loss = loss_nlp \n",
    "        return {'loss': loss} # will call loss.backward() on what we return exactly. \n",
    "    \n",
    "    def training_epoch_end(self, outputs):\n",
    "        if((self.current_epoch+1)%100==0):\n",
    "            torch.save(self.state_dict(), 'W_transformer_token_V10.2')\n",
    "        print(\"Epoch Loss:\",torch.stack([x[\"loss\"] for x in outputs]).mean().item())\n",
    "        \n",
    "    # Lightning disables gradients, puts model in eval mode, and does everything needed for validation.\n",
    "    def validation_step(self, batch, batch_idx):\n",
    "        X,target,lengths,padding_mask = batch\n",
    "        X = X.permute(1,0,2)\n",
    "        padding_mask = torch.cat((torch.zeros((X.shape[1],2),dtype=torch.bool), (torch.ones((X.shape[1],398),dtype=torch.bool))),1).cuda()\n",
    "        class_probs  = self(X,None,padding_mask)\n",
    "        lengths -=1\n",
    "        loss = nn.CrossEntropyLoss()(class_probs, lengths )\n",
    "        \n",
    "        self.log('val_loss', loss)\n",
    "        return {'val_loss': loss,} # We may return the predictions themselves\n",
    "    \n",
    "    def validation_epoch_end(self, outputs):\n",
    "        print(\"Validation Loss:\",torch.stack([x[\"val_loss\"] for x in outputs]).mean().item())\n",
    "        \n",
    "    def configure_optimizers(self):\n",
    "        return torch.optim.Adam(self.parameters(), lr=0.0001)\n",
    "    \n"
   ]
  },
  {
   "cell_type": "markdown",
   "id": "c498291b-f99f-4f99-902b-4bd5cf178d40",
   "metadata": {},
   "source": [
    "# Training"
   ]
  },
  {
   "cell_type": "markdown",
   "id": "ea22afa8-9519-4be3-a0e6-64da240005c0",
   "metadata": {},
   "source": [
    "**Notes on EarlyStopping:**\n",
    "- The EarlyStopping callback runs at the **end of every validation epoch**, which, under the default configuration, happen after **every training epoch**.\n",
    "-  However, the frequency of validation can be modified by setting various parameters in the Trainer, for example **check_val_every_n_epoch and val_check_interval**.\n",
    "- Note that the **patience** parameter counts the number of **validation epochs with no improvement**, and **not the number of training epochs**. \n",
    "    - Therefore, with parameters **check_val_every_n_epoch=10 and patience=3**, the trainer will perform at least **40 training epochs before being stopped**. "
   ]
  },
  {
   "cell_type": "code",
   "execution_count": 17,
   "id": "7d6deb24-4a45-4cbf-b69b-c27ba32063e4",
   "metadata": {},
   "outputs": [
    {
     "name": "stdout",
     "output_type": "stream",
     "text": [
      "\n"
     ]
    }
   ],
   "source": [
    "d_model = 256\n",
    "model = TimeSeriesTransformer() \n",
    "\n",
    "ck = torch.load('../lightning_logs/version_19/checkpoints/epoch=399-step=76799.ckpt')['state_dict']\n",
    "model.load_state_dict(ck)\n",
    "for param in model.parameters():\n",
    "    param.requires_grad = False\n",
    "\n",
    "model.OutputLinear  = nn.Linear(d_model,n_classes_disc) \n",
    "model.InputLinear  = nn.Embedding(n_classes_disc, d_model)  #(num_embeddings, embedding_dim)\n",
    "\n",
    "\n",
    "# model.load_state_dict(torch.load('W_transformer_token_V10.1'))\n",
    "# model.eval()\n",
    "print()"
   ]
  },
  {
   "cell_type": "code",
   "execution_count": 18,
   "id": "a4a2c98b-72bd-483a-8c15-542e2f5f6231",
   "metadata": {
    "tags": []
   },
   "outputs": [
    {
     "name": "stderr",
     "output_type": "stream",
     "text": [
      "GPU available: True, used: True\n",
      "TPU available: False, using: 0 TPU cores\n",
      "/rdata/yelnady/anaconda3/envs/pytorch/lib/python3.6/site-packages/pytorch_lightning/trainer/configuration_validator.py:101: UserWarning: you defined a validation_step but have no val_dataloader. Skipping val loop\n",
      "  rank_zero_warn(f'you defined a {step_name} but have no {loader_name}. Skipping {stage} loop')\n",
      "LOCAL_RANK: 0 - CUDA_VISIBLE_DEVICES: [0,1]\n",
      "\n",
      "  | Name                | Type               | Params\n",
      "-----------------------------------------------------------\n",
      "0 | InputLinear         | Embedding          | 76.8 K\n",
      "1 | positional_encoding | PositionalEncoding | 0     \n",
      "2 | transformer_encoder | TransformerEncoder | 3.2 M \n",
      "3 | OutputLinear        | Linear             | 77.1 K\n",
      "4 | activation          | Sigmoid            | 0     \n",
      "-----------------------------------------------------------\n",
      "153 K     Trainable params\n",
      "3.2 M     Non-trainable params\n",
      "3.3 M     Total params\n",
      "13.280    Total estimated model params size (MB)\n"
     ]
    },
    {
     "data": {
      "application/vnd.jupyter.widget-view+json": {
       "model_id": "",
       "version_major": 2,
       "version_minor": 0
      },
      "text/plain": [
       "Validation sanity check: 0it [00:00, ?it/s]"
      ]
     },
     "metadata": {},
     "output_type": "display_data"
    },
    {
     "data": {
      "application/vnd.jupyter.widget-view+json": {
       "model_id": "dfcc261be25e4092866645b5258594e9",
       "version_major": 2,
       "version_minor": 0
      },
      "text/plain": [
       "Training: 0it [00:00, ?it/s]"
      ]
     },
     "metadata": {},
     "output_type": "display_data"
    },
    {
     "name": "stdout",
     "output_type": "stream",
     "text": [
      "Epoch Loss: 2.6075496673583984\n",
      "Epoch Loss: 0.39281684160232544\n",
      "Epoch Loss: 0.2473192662000656\n",
      "Total Time (in minutes) is 0:07:39.382934\n",
      "/rdata/yelnady/DoppelGANger/Token/lightning_logs/version_153/checkpoints/epoch=2-step=575.ckpt\n"
     ]
    },
    {
     "name": "stderr",
     "output_type": "stream",
     "text": [
      "/rdata/yelnady/anaconda3/envs/pytorch/lib/python3.6/site-packages/pytorch_lightning/trainer/trainer.py:895: UserWarning: Detected KeyboardInterrupt, attempting graceful shutdown...\n",
      "  rank_zero_warn('Detected KeyboardInterrupt, attempting graceful shutdown...')\n"
     ]
    }
   ],
   "source": [
    "# RuntimeError: CUDA error: device-side assert triggered --> The problem it needs to be 0-399 not 1-400\n",
    "def main():\n",
    "    # pl.seed_everything(42, workers=True) --> sets seeds for numpy, torch, python.random and PYTHONHASHSEED.\n",
    "    time_all = time()\n",
    "\n",
    "    early_stop_callback = EarlyStopping(monitor='val_loss',patience=5, verbose=False, mode='min')\n",
    "    checkpoint_callback = ModelCheckpoint()\n",
    "#     trainer = pl.Trainer(gpus=2,max_epochs=400, progress_bar_refresh_rate=50,accelerator ='ddp',\n",
    "#                         callbacks=[early_stop_callback,checkpoint_callback]\n",
    "#                          ,plugins=DDPPlugin(find_unused_parameters=False,check_val_every_n_epoch=2))\n",
    "    \n",
    "    \n",
    "    trainer = pl.Trainer(gpus=1,max_epochs=400, progress_bar_refresh_rate=50,check_val_every_n_epoch=3,\n",
    "                        callbacks=[checkpoint_callback],)\n",
    "    trainer.fit(model,train_dataloader)\n",
    "    print(\"Total Time (in minutes) is {}\".format( timedelta(seconds=(time()-time_all))))\n",
    "    print(checkpoint_callback.best_model_path)\n",
    "\n",
    "if __name__ == '__main__':\n",
    "    main()"
   ]
  },
  {
   "cell_type": "code",
   "execution_count": 37,
   "id": "6bee552c-0365-4425-a262-692d0185f5ce",
   "metadata": {},
   "outputs": [
    {
     "name": "stderr",
     "output_type": "stream",
     "text": [
      "Exception ignored in: <bound method _MultiProcessingDataLoaderIter.__del__ of <torch.utils.data.dataloader._MultiProcessingDataLoaderIter object at 0x7f9a36597e80>>\n",
      "Traceback (most recent call last):\n",
      "  File \"/rdata/yelnady/anaconda3/envs/pytorch/lib/python3.6/site-packages/torch/utils/data/dataloader.py\", line 1328, in __del__\n",
      "    self._shutdown_workers()\n",
      "  File \"/rdata/yelnady/anaconda3/envs/pytorch/lib/python3.6/site-packages/torch/utils/data/dataloader.py\", line 1301, in _shutdown_workers\n",
      "    w.join(timeout=_utils.MP_STATUS_CHECK_INTERVAL)\n",
      "  File \"/rdata/yelnady/anaconda3/envs/pytorch/lib/python3.6/multiprocessing/process.py\", line 124, in join\n",
      "    res = self._popen.wait(timeout)\n",
      "  File \"/rdata/yelnady/anaconda3/envs/pytorch/lib/python3.6/multiprocessing/popen_fork.py\", line 47, in wait\n",
      "    if not wait([self.sentinel], timeout):\n",
      "  File \"/rdata/yelnady/anaconda3/envs/pytorch/lib/python3.6/multiprocessing/connection.py\", line 911, in wait\n",
      "    ready = selector.select(timeout)\n",
      "  File \"/rdata/yelnady/anaconda3/envs/pytorch/lib/python3.6/selectors.py\", line 376, in select\n",
      "    fd_event_list = self._poll.poll(timeout)\n",
      "KeyboardInterrupt: \n"
     ]
    },
    {
     "data": {
      "text/plain": [
       "3330"
      ]
     },
     "execution_count": 37,
     "metadata": {},
     "output_type": "execute_result"
    }
   ],
   "source": [
    "gc.collect()"
   ]
  },
  {
   "cell_type": "code",
   "execution_count": null,
   "id": "89acb2e0-f97e-4c93-a3b9-15e796894247",
   "metadata": {},
   "outputs": [],
   "source": []
  },
  {
   "cell_type": "code",
   "execution_count": null,
   "id": "17fb66be-281e-4283-bd10-c4b6a6073053",
   "metadata": {},
   "outputs": [],
   "source": []
  },
  {
   "cell_type": "code",
   "execution_count": null,
   "id": "e438c9e1-67cd-4a13-b69d-460e966f066b",
   "metadata": {},
   "outputs": [],
   "source": []
  }
 ],
 "metadata": {
  "kernelspec": {
   "display_name": "Python 3",
   "language": "python",
   "name": "python3"
  },
  "language_info": {
   "codemirror_mode": {
    "name": "ipython",
    "version": 3
   },
   "file_extension": ".py",
   "mimetype": "text/x-python",
   "name": "python",
   "nbconvert_exporter": "python",
   "pygments_lexer": "ipython3",
   "version": "3.8.5"
  },
  "widgets": {
   "application/vnd.jupyter.widget-state+json": {
    "state": {},
    "version_major": 2,
    "version_minor": 0
   }
  }
 },
 "nbformat": 4,
 "nbformat_minor": 5
}
