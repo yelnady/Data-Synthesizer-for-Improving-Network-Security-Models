{
 "cells": [
  {
   "cell_type": "markdown",
   "id": "f3f5ad86-4248-4226-943d-0bc26a03e80e",
   "metadata": {},
   "source": [
    "# Required Imports"
   ]
  },
  {
   "cell_type": "code",
   "execution_count": 1,
   "id": "4a618acb-32dc-4450-a211-32bba60b2f60",
   "metadata": {},
   "outputs": [],
   "source": [
    "import sys, random, math, pickle\n",
    "from time import time\n",
    "import numpy as np\n",
    "import gc\n",
    "import matplotlib\n",
    "import matplotlib.pyplot as plt\n",
    "import torch\n",
    "from torch import nn\n",
    "from torch.nn import MSELoss\n",
    "import torch.nn.functional as F\n",
    "from datetime import timedelta\n",
    "from torch.nn import TransformerEncoder, TransformerEncoderLayer\n",
    "import pytorch_lightning as pl\n",
    "import torchmetrics.functional as FM\n",
    "from pytorch_lightning.callbacks.early_stopping import EarlyStopping\n",
    "from pytorch_lightning.plugins import DDPPlugin\n",
    "from pytorch_lightning.callbacks import ModelCheckpoint\n",
    "sys.path.append('../DG/gan')"
   ]
  },
  {
   "cell_type": "markdown",
   "id": "fbddef74-d62f-43c4-b7d0-cd6e45ac955b",
   "metadata": {},
   "source": [
    "# Loading Real Train Data"
   ]
  },
  {
   "cell_type": "code",
   "execution_count": 2,
   "id": "f63d9569-72bc-46f5-987f-64a4d1dbb42f",
   "metadata": {},
   "outputs": [],
   "source": [
    "def get_one_class(X,Y_labels,flag,class_label):\n",
    "    indices_class_label = np.where(Y_labels==class_label)\n",
    "    return X[indices_class_label], Y_labels[indices_class_label], flag[indices_class_label] \n",
    "    \n",
    "def get_n_samples(X,Y_labels,flag,n_samples):\n",
    "    randomList = random.sample(range(0, Y_labels.shape[0]), n_samples)\n",
    "    return X[randomList], Y_labels[randomList], flag[randomList]\n",
    "\n",
    "# In real data, if flag sum is 1 --> Then no timestep at all. \n",
    "            # So we do remove those ones by converting them to zeros, then return only non-zero flags indices\n",
    "# In real data, there is no flag of length ZERO\n",
    "def remove_zero_datapoints(X,Y_labels,flag):\n",
    "    indices_non_zero = torch.nonzero(torch.sum(flag,1)-1).squeeze()\n",
    "    return X[indices_non_zero], Y_labels[indices_non_zero], flag[indices_non_zero]\n"
   ]
  },
  {
   "cell_type": "code",
   "execution_count": 3,
   "id": "f052e082-0bba-43c0-9cab-0eab5f14d56a",
   "metadata": {},
   "outputs": [],
   "source": [
    "training_real = np.load('../data/google/data_train_reduced.npz')\n",
    "\n",
    "real_train_X = torch.from_numpy(training_real['data_feature']).float() #[50000, 2500, 9]\n",
    "real_train_Y = torch.from_numpy(training_real['data_attribute']) #[50000,4]\n",
    "real_train_Y_labels = torch.argmax(real_train_Y,1) #[50000,]  returns a list of the class label, no one hot encoding any more\n",
    "real_train_flags = torch.from_numpy(training_real['data_gen_flag'])   # (50000, 2500)\n",
    "\n",
    "real_train_X,real_train_Y_labels,real_train_flags = remove_zero_datapoints(real_train_X,real_train_Y_labels,real_train_flags)\n",
    "\n",
    "real_train_lengths = torch.sum(real_train_flags,1).long()\n",
    "\n",
    "real_train_masks = real_train_flags == 0"
   ]
  },
  {
   "cell_type": "code",
   "execution_count": 4,
   "id": "8e442d72-09bb-44db-9d9f-877d37b5a96a",
   "metadata": {},
   "outputs": [],
   "source": [
    "val_real = np.load('../data/google/data_train_val.npz')\n",
    "\n",
    "real_val_X = torch.from_numpy(val_real['data_feature']).float() #[50000, 2500, 9]\n",
    "real_val_Y = torch.from_numpy(val_real['data_attribute']) #[50000,4]\n",
    "real_val_Y_labels = torch.argmax(real_val_Y,1) #[50000,]  returns a list of the class label, no one hot encoding any more\n",
    "real_val_flags = torch.from_numpy(val_real['data_gen_flag'])   # (50000, 2500)\n",
    "\n",
    "real_val_X,real_val_Y_labels,real_val_flags = remove_zero_datapoints(real_val_X,real_val_Y_labels,real_val_flags)\n",
    "\n",
    "real_val_lengths = torch.sum(real_val_flags,1).long()\n",
    "\n",
    "real_val_masks = real_val_flags == 0"
   ]
  },
  {
   "cell_type": "code",
   "execution_count": 5,
   "id": "1d73b10f-6a20-4101-a0c3-ea0e724f4f64",
   "metadata": {},
   "outputs": [],
   "source": [
    "test_real = np.load('../data/google/data_test_reduced.npz')\n",
    "\n",
    "real_test_X = torch.from_numpy(test_real['data_feature']).float() #[50000, 2500, 9]\n",
    "real_test_Y = torch.from_numpy(test_real['data_attribute']) #[50000,4]\n",
    "real_test_Y_labels = torch.argmax(real_test_Y,1) #[50000,]  returns a list of the class label, no one hot encoding any more\n",
    "real_test_flags = torch.from_numpy(test_real['data_gen_flag'])   # (50000, 2500)\n",
    "\n",
    "real_test_X,real_test_Y_labels,real_test_flags = remove_zero_datapoints(real_test_X,real_test_Y_labels,real_test_flags)\n",
    "\n",
    "real_test_lengths = torch.sum(real_test_flags,1).long()\n",
    "\n",
    "real_test_masks = real_test_flags == 0"
   ]
  },
  {
   "cell_type": "markdown",
   "id": "05664151-5187-4a16-84bd-d6a1e002c634",
   "metadata": {},
   "source": [
    "# Classification"
   ]
  },
  {
   "cell_type": "code",
   "execution_count": 6,
   "id": "1ddd84d0-9f95-4aaa-b9a7-b817573db19f",
   "metadata": {
    "tags": []
   },
   "outputs": [],
   "source": [
    "real_train_timesteps_X = [] # Contains many timesteps each of 9 features [# of samples is 285,352]\n",
    "real_train_timesteps_Binary = [] # Classify each timestep as end or real data [0: real, 1: end]\n",
    "for sample, length in zip(real_train_X,real_train_lengths):\n",
    "    for i in range(length):\n",
    "        if i==length -1 :\n",
    "            real_train_timesteps_X.append(sample[i])\n",
    "            real_train_timesteps_Binary.append(1)\n",
    "        elif i==length -2:\n",
    "            real_train_timesteps_X.append(sample[i])\n",
    "            real_train_timesteps_Binary.append(0)\n",
    "            \n",
    "real_train_timesteps_X = torch.stack(real_train_timesteps_X)\n",
    "real_train_timesteps_Binary = torch.Tensor(real_train_timesteps_Binary).float()"
   ]
  },
  {
   "cell_type": "code",
   "execution_count": 7,
   "id": "53c2fd33-3f2e-4863-b156-c81e1e976c18",
   "metadata": {},
   "outputs": [
    {
     "data": {
      "text/plain": [
       "torch.Size([48924, 9])"
      ]
     },
     "execution_count": 7,
     "metadata": {},
     "output_type": "execute_result"
    }
   ],
   "source": [
    "real_train_timesteps_X.shape"
   ]
  },
  {
   "cell_type": "code",
   "execution_count": 20,
   "id": "b39847fa-08c0-476a-9007-dbce4e6b11a5",
   "metadata": {},
   "outputs": [],
   "source": [
    "real_val_timesteps_X = [] # Contains many timesteps each of 9 features [# of samples is 285,352]\n",
    "real_val_timesteps_Binary = [] # Classify each timestep as end or real data [0: real, 1: end]\n",
    "for sample, length in zip(real_val_X,real_val_lengths):\n",
    "    for i in range(length):\n",
    "        if i==length -1 :\n",
    "            real_val_timesteps_X.append(sample[i])\n",
    "            real_val_timesteps_Binary.append(1)\n",
    "        elif i==length -2:\n",
    "            real_val_timesteps_X.append(sample[i])\n",
    "            real_val_timesteps_Binary.append(0)\n",
    "            \n",
    "real_val_timesteps_X = torch.stack(real_val_timesteps_X)\n",
    "real_val_timesteps_Binary = torch.Tensor(real_val_timesteps_Binary).float()"
   ]
  },
  {
   "cell_type": "code",
   "execution_count": 21,
   "id": "7cb0b987-7778-4075-af0a-6c06ecba5d7f",
   "metadata": {},
   "outputs": [],
   "source": [
    "real_test_timesteps_X = [] # Contains many timesteps each of 9 features [# of samples is 285,352]\n",
    "real_test_timesteps_Binary = [] # Classify each timestep as end or real data [0: real, 1: end]\n",
    "for sample, length in zip(real_test_X,real_test_lengths):\n",
    "    for i in range(length):\n",
    "        if i==length -1 :\n",
    "            real_test_timesteps_X.append(sample[i])\n",
    "            real_test_timesteps_Binary.append(1)\n",
    "        elif i==length -2:\n",
    "            real_test_timesteps_X.append(sample[i])\n",
    "            real_test_timesteps_Binary.append(0)\n",
    "            \n",
    "real_test_timesteps_X = torch.stack(real_test_timesteps_X)\n",
    "real_test_timesteps_Binary = torch.Tensor(real_test_timesteps_Binary).float()"
   ]
  },
  {
   "cell_type": "code",
   "execution_count": 29,
   "id": "4aa27a29-ecc6-44ef-8831-b3734e1a8808",
   "metadata": {},
   "outputs": [],
   "source": [
    "class MLPModel(pl.LightningModule):\n",
    "    def __init__(self,n_features=9,n_hidden=128,n_output=1):\n",
    "        super().__init__()\n",
    "        self.model = nn.Sequential(\n",
    "                  nn.Linear(n_features,n_hidden),\n",
    "                  nn.ReLU(),\n",
    "                  nn.Linear(n_hidden,n_hidden),\n",
    "                  nn.ReLU(),\n",
    "                  nn.Linear(n_hidden,n_output),\n",
    "                  nn.Sigmoid()\n",
    "                )\n",
    "    def forward(self,x):\n",
    "        return self.model(x)\n",
    "    \n",
    "    def training_step(self, batch, batch_idx):\n",
    "        x, class_label = batch\n",
    "        Y_predicted = self(x)\n",
    "        loss = nn.BCELoss()(Y_predicted.squeeze(),class_label) #BCELoss doesn't have Softmax by default\n",
    "        acc = FM.accuracy(Y_predicted.squeeze(),class_label.int())\n",
    "        self.log('accuracy',acc, on_step=True, on_epoch=True, prog_bar=True, logger=True)\n",
    "        return {'loss': loss,'acc':acc}\n",
    "    \n",
    "    def test_step(self,batch,batch_idx):\n",
    "        x, class_label = batch\n",
    "        Y_predicted = self(x)\n",
    "        loss = nn.BCELoss()(Y_predicted.squeeze(),class_label) #BCELoss doesn't have Softmax by default\n",
    "        acc = FM.accuracy(Y_predicted.squeeze(),class_label.int())\n",
    "        self.log('accuracy',acc, on_step=True , prog_bar=True, logger=True)\n",
    "        return {'loss': loss}\n",
    "    \n",
    "    def validation_step(self,batch,batch_idx):\n",
    "        x, class_label = batch\n",
    "        Y_predicted = self(x)\n",
    "        loss = nn.BCELoss()(Y_predicted.squeeze(),class_label) #BCELoss doesn't have Softmax by default\n",
    "        acc = FM.accuracy(Y_predicted.squeeze(),class_label.int())\n",
    "        self.log('accuracy',acc, on_step=True , prog_bar=True, logger=True)\n",
    "        self.log('val_loss',loss)\n",
    "        return {'val_loss': loss}\n",
    "    \n",
    "    def configure_optimizers(self):\n",
    "        return torch.optim.Adam(self.parameters(), lr=0.001)"
   ]
  },
  {
   "cell_type": "code",
   "execution_count": 30,
   "id": "ba3b96d2-d683-4885-9df9-20a457456ca8",
   "metadata": {},
   "outputs": [
    {
     "name": "stderr",
     "output_type": "stream",
     "text": [
      "GPU available: True, used: True\n",
      "TPU available: False, using: 0 TPU cores\n",
      "LOCAL_RANK: 0 - CUDA_VISIBLE_DEVICES: [0,1]\n",
      "\n",
      "  | Name  | Type       | Params\n",
      "-------------------------------------\n",
      "0 | model | Sequential | 17.9 K\n",
      "-------------------------------------\n",
      "17.9 K    Trainable params\n",
      "0         Non-trainable params\n",
      "17.9 K    Total params\n",
      "0.072     Total estimated model params size (MB)\n"
     ]
    },
    {
     "data": {
      "application/vnd.jupyter.widget-view+json": {
       "model_id": "",
       "version_major": 2,
       "version_minor": 0
      },
      "text/plain": [
       "Validation sanity check: 0it [00:00, ?it/s]"
      ]
     },
     "metadata": {},
     "output_type": "display_data"
    },
    {
     "data": {
      "application/vnd.jupyter.widget-view+json": {
       "model_id": "ca3cd3cac08542cfbc1ebf4baa3377f7",
       "version_major": 2,
       "version_minor": 0
      },
      "text/plain": [
       "Training: 0it [00:00, ?it/s]"
      ]
     },
     "metadata": {},
     "output_type": "display_data"
    },
    {
     "name": "stderr",
     "output_type": "stream",
     "text": [
      "LOCAL_RANK: 0 - CUDA_VISIBLE_DEVICES: [0,1]\n"
     ]
    },
    {
     "data": {
      "application/vnd.jupyter.widget-view+json": {
       "model_id": "02a6758312d0434f84745d7bdc76bb9a",
       "version_major": 2,
       "version_minor": 0
      },
      "text/plain": [
       "Testing: 0it [00:00, ?it/s]"
      ]
     },
     "metadata": {},
     "output_type": "display_data"
    },
    {
     "name": "stdout",
     "output_type": "stream",
     "text": [
      "--------------------------------------------------------------------------------\n",
      "DATALOADER:0 TEST RESULTS\n",
      "{'accuracy': 0.8571428656578064, 'accuracy_epoch': 0.94134122133255}\n",
      "--------------------------------------------------------------------------------\n",
      "DONE\n"
     ]
    }
   ],
   "source": [
    "if __name__ == '__main__':\n",
    "    params_dataloader = {'shuffle': True,'num_workers':8 ,'batch_size':256} # No need to shuffle rn, they are all the same class\n",
    "    dataset = torch.utils.data.TensorDataset(real_train_timesteps_X, real_train_timesteps_Binary)\n",
    "    train_dataloader  = torch.utils.data.DataLoader(dataset, **params_dataloader)\n",
    "\n",
    "    params_dataloader = {'shuffle': False,'num_workers':8,'batch_size':256} # No need to shuffle rn, they are all the same class\n",
    "    dataset = torch.utils.data.TensorDataset(real_val_timesteps_X, real_val_timesteps_Binary)\n",
    "    val_dataloader  = torch.utils.data.DataLoader(dataset, **params_dataloader)\n",
    "    \n",
    "    params_dataloader = {'shuffle': False,'num_workers':8,'batch_size':256} # No need to shuffle rn, they are all the same class\n",
    "    dataset = torch.utils.data.TensorDataset(real_test_timesteps_X, real_test_timesteps_Binary)\n",
    "    test_dataloader  = torch.utils.data.DataLoader(dataset, **params_dataloader)\n",
    "    mlp_model = MLPModel()\n",
    "\n",
    "early_stop_callback = EarlyStopping(monitor='val_loss', mode='min')\n",
    "\n",
    "# ck = torch.load('lightning_logs/version_56/checkpoints/epoch=52-step=59094.ckpt')['state_dict']\n",
    "# mlp_model.load_state_dict(ck)\n",
    "\n",
    "trainer = pl.Trainer(gpus=1,max_epochs=100,progress_bar_refresh_rate=1)\n",
    "trainer.fit(mlp_model,train_dataloader)\n",
    "trainer.test(test_dataloaders=test_dataloader) # No need to repass (model), It will by itself work from test_step\n",
    "print(\"DONE\")\n",
    "\n",
    "# The path for it is Token\\lightning_logs\\version_56\\checkpoints\\epoch=52-step=59094.ckpt --> Test Accuracy is  0.8119"
   ]
  },
  {
   "cell_type": "markdown",
   "id": "13146a91-fb12-4c1f-bae7-bf651e107b39",
   "metadata": {},
   "source": [
    "# Dataset and DataLoader"
   ]
  },
  {
   "cell_type": "code",
   "execution_count": null,
   "id": "e55d3bd8-0106-496b-97ad-9ca611872d77",
   "metadata": {},
   "outputs": [],
   "source": [
    "B = real_train_X.size(0)\n",
    "S = real_train_X.size(1)\n",
    "E = real_train_X.size(2)\n",
    "\n",
    "# 1- Shift the targets\n",
    "Input_shifted = real_train_X[:,1:]\n",
    "Zero_at_the_end = torch.zeros((B,1,E))\n",
    "targets = torch.cat((Input_shifted,Zero_at_the_end),1) # real_train_X shifted to the left one timestep\n",
    "\n",
    "targets=  targets[:,:400]\n",
    "real_train_masks = real_train_masks[:,:400]\n",
    "real_train_X = real_train_X[:,:400]\n",
    "\n",
    "S = real_train_X.size(1)\n",
    "\n",
    "params_dataloader = {'shuffle': True,'num_workers':8 ,'batch_size':128} # No need to shuffle rn, they are all the same class\n",
    "# \"num_workers\" is how many subprocesses to use for data loading.\n",
    "dataset = torch.utils.data.TensorDataset(real_train_X, targets, real_train_auxiliary.long(), real_train_masks)\n",
    "train_dataloader  = torch.utils.data.DataLoader(dataset, **params_dataloader)"
   ]
  },
  {
   "cell_type": "code",
   "execution_count": null,
   "id": "41edd324-ba94-4101-bbe8-bea5a2ef2364",
   "metadata": {},
   "outputs": [],
   "source": [
    "# Validation Dataset and DataLoader \n",
    "\n",
    "B = real_val_X.size(0)\n",
    "S = real_val_X.size(1)\n",
    "E = real_val_X.size(2)\n",
    "\n",
    "Input_shifted = real_val_X[:,1:]\n",
    "Zero_at_the_end = torch.zeros((B,1,E))\n",
    "targets = torch.cat((Input_shifted,Zero_at_the_end),1) # real_train_X shifted to the left one timestep\n",
    "\n",
    "targets=  targets[:,:400]\n",
    "real_val_masks = real_val_masks[:,:400]\n",
    "real_val_X = real_val_X[:,:400]\n",
    "\n",
    "S = real_val_X.size(1)\n",
    "\n",
    "params_dataloader = {'shuffle': False,'num_workers':8 ,'batch_size':128} # No need to shuffle rn, they are all the same class\n",
    "dataset = torch.utils.data.TensorDataset(real_val_X, targets, real_val_auxiliary, real_val_masks)\n",
    "val_dataloader  = torch.utils.data.DataLoader(dataset, **params_dataloader)"
   ]
  },
  {
   "cell_type": "markdown",
   "id": "04a66c26-3e0a-44e5-9c89-7075e49907cc",
   "metadata": {},
   "source": [
    "# TST"
   ]
  },
  {
   "cell_type": "code",
   "execution_count": null,
   "id": "2f896001-4f2c-4818-9525-e59267dfb279",
   "metadata": {},
   "outputs": [],
   "source": [
    "class PositionalEncoding(nn.Module):\n",
    "\n",
    "    def __init__(self, d_model, dropout=0.1, max_len=5000):\n",
    "        super(PositionalEncoding, self).__init__()\n",
    "        self.dropout = nn.Dropout(p=dropout)\n",
    "\n",
    "        pe = torch.zeros(max_len, d_model)\n",
    "        position = torch.arange(0, max_len, dtype=torch.float).unsqueeze(1)\n",
    "        div_term = torch.exp(torch.arange(0, d_model, 2).float() * (-math.log(10000.0) / d_model))\n",
    "        pe[:, 0::2] = torch.sin(position * div_term)\n",
    "        pe[:, 1::2] = torch.cos(position * div_term)\n",
    "        pe = pe.unsqueeze(0).transpose(0, 1)\n",
    "        self.register_buffer('pe', pe)\n",
    "\n",
    "    def forward(self, x):\n",
    "        x = x + self.pe[:x.size(0), :]\n",
    "        return self.dropout(x)"
   ]
  },
  {
   "cell_type": "code",
   "execution_count": null,
   "id": "3e147f88-9c5e-468e-bfb2-6e674538d06e",
   "metadata": {},
   "outputs": [],
   "source": [
    "class TimeSeriesTransformer(pl.LightningModule):\n",
    "\n",
    "    def __init__(self, n_features=9, n_auxiliary=3, d_model=256, n_heads=8, n_hidden=256, n_layers=8, dropout=0.0, S=400):\n",
    "        super().__init__()\n",
    "        self.model_type = 'Time Series Transformer Model'\n",
    "        self.InputLinear = nn.Linear(n_features, d_model)\n",
    "        \n",
    "        self.positional_encoding = PositionalEncoding(d_model, dropout)\n",
    "        encoder_layers = TransformerEncoderLayer(d_model, n_heads, n_hidden, dropout)\n",
    "        self.transformer_encoder = TransformerEncoder(encoder_layers, n_layers)\n",
    "        \n",
    "        self.d_model = d_model\n",
    "        self.n_features = n_features\n",
    "        \n",
    "        self.OutputLinear = nn.Linear(d_model, n_features) # The output of the encoder is similar to the input of the encoder, both are (B,S,d_model)\n",
    "        self.AuxiliaryLinear = nn.Linear(n_features, n_auxiliary) \n",
    "        self.init_weights()\n",
    "        self.activation = nn.Sigmoid()\n",
    "        \n",
    "    def generate_square_subsequent_mask(self, sz):\n",
    "        mask = (torch.triu(torch.ones(sz, sz)) == 1).transpose(0, 1)\n",
    "        mask = mask.float().masked_fill(mask == 0, float(-1e6)).masked_fill(mask == 1, float(0.0))\n",
    "        return mask \n",
    "\n",
    "    def init_weights(self):\n",
    "        initrange = 0.1\n",
    "        self.InputLinear.weight.data.uniform_(-initrange, initrange)\n",
    "        self.OutputLinear.bias.data.zero_()\n",
    "        self.OutputLinear.weight.data.uniform_(-initrange, initrange)\n",
    "\n",
    "    def forward(self, src, src_mask,padding_mask):\n",
    "        src = self.InputLinear(src) * math.sqrt(self.d_model)\n",
    "        src = self.positional_encoding(src)\n",
    "        output = self.transformer_encoder(src, src_mask,padding_mask)\n",
    "        output = self.OutputLinear(output)\n",
    "        output1 = self.activation(output) # output[...,:9] --> Actual 9 values\n",
    "        output2 = self.AuxiliaryLinear(output) #aux\n",
    "        return output1,output2\n",
    "    \n",
    "    def training_step(self, batch, batch_idx):\n",
    "\n",
    "        X,target,aux_real,padding_mask = batch\n",
    "        src_mask = self.generate_square_subsequent_mask(S).cuda()\n",
    "        X = X.permute(1,0,2)\n",
    "        Y_predicted, aux_predicted = self(X,src_mask,padding_mask)\n",
    "        Y_predicted = Y_predicted.permute(1,0,2)\n",
    "        aux_predicted =  aux_predicted.permute(1,0,2)\n",
    "        \n",
    "        mse = nn.MSELoss(reduction='none')\n",
    "        diff2 = mse(Y_predicted, target).flatten()\n",
    "        flags = (~padding_mask).unsqueeze(2).expand(-1,-1,9).float().flatten()\n",
    "        mse_loss = diff2*flags\n",
    "        mse_loss = torch.sum(diff2) / torch.sum(flags)\n",
    "        # In PyTorch Transformer, Calculated the CrossEntropy using torch.Size([35, 20, 28782]), View/Reshape -1: torch.Size([700, 28782]), Targets: torch.Size([700])\n",
    "        aux_loss = nn.CrossEntropyLoss()(aux_predicted.reshape(-1, 3),aux_real.flatten())\n",
    "        \n",
    "        loss = mse_loss + aux_loss\n",
    "        return {'loss': loss,'aux_loss':aux_loss} # will call loss.backward() on what we return exactly. \n",
    "    \n",
    "    def training_epoch_end(self, outputs):\n",
    "        if((self.current_epoch+1)%100==0):\n",
    "            torch.save(self.state_dict(), 'W_transformer_aux')\n",
    "        print(\"Epoch Loss:\",torch.stack([x[\"loss\"] for x in outputs]).mean().item(), \"Aux:\", torch.stack([x[\"aux_loss\"] for x in outputs]).mean().item())\n",
    "        \n",
    "    # Lightning disables gradients, puts model in eval mode, and does everything needed for validation.\n",
    "#     def validation_step(self, batch, batch_idx):\n",
    "#         X,target,aux,padding_mask = batch\n",
    "#         src_mask = self.generate_square_subsequent_mask(S).cuda()\n",
    "#         X = X.permute(1,0,2)\n",
    "#         Y_predicted = self(X,src_mask,padding_mask)\n",
    "#         Y_predicted = Y_predicted.permute(1,0,2)\n",
    "            \n",
    "#         mse_loss = nn.MSELoss(reduction='none')\n",
    "#         diff2 = mse_loss(Y_predicted, target).flatten()\n",
    "#         flags = (~padding_mask).unsqueeze(2).expand(-1,-1,9).float().flatten()\n",
    "#         loss = diff2*flags\n",
    "#         loss = torch.sum(diff2) / torch.sum(flags)\n",
    "#         self.log('val_loss', loss)\n",
    "#         return {'val_loss': loss,} # We may return the predictions themselves\n",
    "    \n",
    "#     def validation_epoch_end(self, outputs):\n",
    "#         print(\"Validation Loss:\",torch.stack([x[\"val_loss\"] for x in outputs]).mean().item())\n",
    "        \n",
    "    def configure_optimizers(self):\n",
    "        return torch.optim.Adam(self.parameters(), lr=0.0001)\n",
    "    \n"
   ]
  },
  {
   "cell_type": "markdown",
   "id": "c498291b-f99f-4f99-902b-4bd5cf178d40",
   "metadata": {},
   "source": [
    "# Training"
   ]
  },
  {
   "cell_type": "markdown",
   "id": "ea22afa8-9519-4be3-a0e6-64da240005c0",
   "metadata": {},
   "source": [
    "**Notes on EarlyStopping:**\n",
    "- The EarlyStopping callback runs at the **end of every validation epoch**, which, under the default configuration, happen after **every training epoch**.\n",
    "-  However, the frequency of validation can be modified by setting various parameters in the Trainer, for example **check_val_every_n_epoch and val_check_interval**.\n",
    "- Note that the **patience** parameter counts the number of **validation epochs with no improvement**, and **not the number of training epochs**. \n",
    "    - Therefore, with parameters **check_val_every_n_epoch=10 and patience=3**, the trainer will perform at least **40 training epochs before being stopped**. "
   ]
  },
  {
   "cell_type": "code",
   "execution_count": null,
   "id": "a4a2c98b-72bd-483a-8c15-542e2f5f6231",
   "metadata": {
    "tags": []
   },
   "outputs": [],
   "source": [
    "\n",
    "def main():\n",
    "    # pl.seed_everything(42, workers=True) --> sets seeds for numpy, torch, python.random and PYTHONHASHSEED.\n",
    "    time_all = time()\n",
    "\n",
    "    model = TimeSeriesTransformer()\n",
    "    early_stop_callback = EarlyStopping(monitor='val_loss',patience=5, verbose=False, mode='min')\n",
    "    checkpoint_callback = ModelCheckpoint()\n",
    "#     trainer = pl.Trainer(gpus=2,max_epochs=400, progress_bar_refresh_rate=50,accelerator ='ddp',\n",
    "#                         callbacks=[early_stop_callback,checkpoint_callback]\n",
    "#                          ,plugins=DDPPlugin(find_unused_parameters=False,check_val_every_n_epoch=2))\n",
    "    \n",
    "    \n",
    "    trainer = pl.Trainer(gpus=1,max_epochs=400, progress_bar_refresh_rate=50,check_val_every_n_epoch=3,\n",
    "                        callbacks=[checkpoint_callback],)\n",
    "    trainer.fit(model,train_dataloader)\n",
    "    print(\"Total Time (in minutes) is {}\".format( timedelta(seconds=(time()-time_all))))\n",
    "    print(checkpoint_callback.best_model_path)\n",
    "\n",
    "if __name__ == '__main__':\n",
    "    main()"
   ]
  },
  {
   "cell_type": "code",
   "execution_count": null,
   "id": "36814398-5f7d-4888-adb4-37f66d8ca14f",
   "metadata": {},
   "outputs": [],
   "source": []
  },
  {
   "cell_type": "code",
   "execution_count": 79,
   "id": "6bee552c-0365-4425-a262-692d0185f5ce",
   "metadata": {},
   "outputs": [
    {
     "name": "stderr",
     "output_type": "stream",
     "text": [
      "Exception ignored in: <bound method _MultiProcessingDataLoaderIter.__del__ of <torch.utils.data.dataloader._MultiProcessingDataLoaderIter object at 0x7f39d9b19438>>\n",
      "Traceback (most recent call last):\n",
      "  File \"/rhome/yelnady/.local/lib/python3.6/site-packages/torch/utils/data/dataloader.py\", line 1324, in __del__\n",
      "    self._shutdown_workers()\n",
      "  File \"/rhome/yelnady/.local/lib/python3.6/site-packages/torch/utils/data/dataloader.py\", line 1297, in _shutdown_workers\n",
      "    w.join(timeout=_utils.MP_STATUS_CHECK_INTERVAL)\n",
      "  File \"/rdata/yelnady/anaconda3/envs/pytorch/lib/python3.6/multiprocessing/process.py\", line 124, in join\n",
      "    res = self._popen.wait(timeout)\n",
      "  File \"/rdata/yelnady/anaconda3/envs/pytorch/lib/python3.6/multiprocessing/popen_fork.py\", line 47, in wait\n",
      "    if not wait([self.sentinel], timeout):\n",
      "  File \"/rdata/yelnady/anaconda3/envs/pytorch/lib/python3.6/multiprocessing/connection.py\", line 911, in wait\n",
      "    ready = selector.select(timeout)\n",
      "  File \"/rdata/yelnady/anaconda3/envs/pytorch/lib/python3.6/selectors.py\", line 376, in select\n",
      "    fd_event_list = self._poll.poll(timeout)\n",
      "KeyboardInterrupt: \n"
     ]
    },
    {
     "data": {
      "text/plain": [
       "5057"
      ]
     },
     "execution_count": 79,
     "metadata": {},
     "output_type": "execute_result"
    }
   ],
   "source": [
    "gc.collect()"
   ]
  }
 ],
 "metadata": {
  "kernelspec": {
   "display_name": "PyTorch",
   "language": "python",
   "name": "pytorch"
  },
  "language_info": {
   "codemirror_mode": {
    "name": "ipython",
    "version": 3
   },
   "file_extension": ".py",
   "mimetype": "text/x-python",
   "name": "python",
   "nbconvert_exporter": "python",
   "pygments_lexer": "ipython3",
   "version": "3.6.9"
  },
  "widgets": {
   "application/vnd.jupyter.widget-state+json": {
    "state": {},
    "version_major": 2,
    "version_minor": 0
   }
  }
 },
 "nbformat": 4,
 "nbformat_minor": 5
}
