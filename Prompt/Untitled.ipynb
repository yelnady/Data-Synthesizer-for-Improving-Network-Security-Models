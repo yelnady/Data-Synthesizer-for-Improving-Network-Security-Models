{
 "cells": [
  {
   "cell_type": "code",
   "execution_count": 1,
   "id": "36a706ff-0a0c-4670-823b-4f73bea5b491",
   "metadata": {},
   "outputs": [
    {
     "name": "stdout",
     "output_type": "stream",
     "text": [
      "Apple Apple PROPN NNP nsubj Xxxxx True False\n",
      "is be AUX VBZ aux xx True True\n",
      "looking look VERB VBG ROOT xxxx True False\n",
      "at at ADP IN prep xx True True\n",
      "buying buy VERB VBG pcomp xxxx True False\n",
      "U.K. U.K. PROPN NNP dobj X.X. False False\n",
      "startup startup NOUN NN advcl xxxx True False\n",
      "for for ADP IN prep xxx True True\n",
      "$ $ SYM $ quantmod $ False False\n",
      "1 1 NUM CD compound d False False\n",
      "billion billion NUM CD pobj xxxx True False\n"
     ]
    }
   ],
   "source": [
    "import spacy\n",
    "nlp = spacy.load(\"en_core_web_sm\")\n",
    "doc = nlp(\"Apple is looking at buying U.K. startup for $1 billion\")\n",
    "for token in doc:\n",
    "    print(token.text, token.lemma_, token.pos_, token.tag_, token.dep_,\n",
    "            token.shape_, token.is_alpha, token.is_stop)"
   ]
  },
  {
   "cell_type": "code",
   "execution_count": 11,
   "id": "f9346dec-dd55-4019-8d5d-471393ceae0e",
   "metadata": {},
   "outputs": [],
   "source": [
    "def entity_analyzer(text, lang_model):\n",
    "    nlp = spacy.load(lang_model)\n",
    "    doc = nlp(text)\n",
    "    tokens = [token.text for token in doc]\n",
    "    print(tokens)\n",
    "    entities = [(entity.text, entity.label_) for entity in doc.ents]\n",
    "    return ['Entities\":{}'.format(entities)]"
   ]
  },
  {
   "cell_type": "code",
   "execution_count": 8,
   "id": "3e019d6a-de5d-4c48-b444-56c8fb921618",
   "metadata": {},
   "outputs": [],
   "source": [
    "message = 'Challenge This is also the case for my company and my Church’s bible study organisation. In the case of my bible study activities, we usually would take attendance. When it was done in person, it was easy as we were broken up to a few classes. But, since we moved to Zoom, a few classes and sometimes, all of them are combined in one Zoom bible study session.This presented a challenge in terms of taking attendance as people might join and leave at different times, requiring the class leaders to keep monitoring the list of participants. It is really difficult to do and it would mean that the class leaders are probably not going to be able to pay attention to the session, itself.Solution Now, since I am a Dev, myself, I took the liberty of looking into Zoom API and thought I could automate it all. So the class leaders do not have to manually take the attendance, but rather just wait for my report to be generated after each of the bible study classes.The Zoom API is quite simple and straight forward to implement. The API that I use is the report meeting participants API. It does require a Zoom pro account, but fortunately, my organisation decided to subscribe to it as we are going to be using it for a while. So, no dramas there. I chose Python as the programming language to use as it is very convenient and definitely made for this type of task. So first, my Python program will call the Zoom API to fetch the list of meeting participants. Then, using Pandas library, it will transform and simplify the data to a human friendly, readable tabular format. Finally, I am using the Google API to store the final report in a Google Sheets, which is made accessible to the class leaders who need to see the attendance report.'"
   ]
  },
  {
   "cell_type": "code",
   "execution_count": 9,
   "id": "b021625d-3552-406d-83a0-986f83d8540e",
   "metadata": {},
   "outputs": [
    {
     "name": "stdout",
     "output_type": "stream",
     "text": [
      "['Challenge', 'This', 'is', 'also', 'the', 'case', 'for', 'my', 'company', 'and', 'my', 'Church', '’s', 'bible', 'study', 'organisation', '.', 'In', 'the', 'case', 'of', 'my', 'bible', 'study', 'activities', ',', 'we', 'usually', 'would', 'take', 'attendance', '.', 'When', 'it', 'was', 'done', 'in', 'person', ',', 'it', 'was', 'easy', 'as', 'we', 'were', 'broken', 'up', 'to', 'a', 'few', 'classes', '.', 'But', ',', 'since', 'we', 'moved', 'to', 'Zoom', ',', 'a', 'few', 'classes', 'and', 'sometimes', ',', 'all', 'of', 'them', 'are', 'combined', 'in', 'one', 'Zoom', 'bible', 'study', 'session', '.', 'This', 'presented', 'a', 'challenge', 'in', 'terms', 'of', 'taking', 'attendance', 'as', 'people', 'might', 'join', 'and', 'leave', 'at', 'different', 'times', ',', 'requiring', 'the', 'class', 'leaders', 'to', 'keep', 'monitoring', 'the', 'list', 'of', 'participants', '.', 'It', 'is', 'really', 'difficult', 'to', 'do', 'and', 'it', 'would', 'mean', 'that', 'the', 'class', 'leaders', 'are', 'probably', 'not', 'going', 'to', 'be', 'able', 'to', 'pay', 'attention', 'to', 'the', 'session', ',', 'itself', '.', 'Solution', 'Now', ',', 'since', 'I', 'am', 'a', 'Dev', ',', 'myself', ',', 'I', 'took', 'the', 'liberty', 'of', 'looking', 'into', 'Zoom', 'API', 'and', 'thought', 'I', 'could', 'automate', 'it', 'all', '.', 'So', 'the', 'class', 'leaders', 'do', 'not', 'have', 'to', 'manually', 'take', 'the', 'attendance', ',', 'but', 'rather', 'just', 'wait', 'for', 'my', 'report', 'to', 'be', 'generated', 'after', 'each', 'of', 'the', 'bible', 'study', 'classes', '.', 'The', 'Zoom', 'API', 'is', 'quite', 'simple', 'and', 'straight', 'forward', 'to', 'implement', '.', 'The', 'API', 'that', 'I', 'use', 'is', 'the', 'report', 'meeting', 'participants', 'API', '.', 'It', 'does', 'require', 'a', 'Zoom', 'pro', 'account', ',', 'but', 'fortunately', ',', 'my', 'organisation', 'decided', 'to', 'subscribe', 'to', 'it', 'as', 'we', 'are', 'going', 'to', 'be', 'using', 'it', 'for', 'a', 'while', '.', 'So', ',', 'no', 'dramas', 'there', '.', 'I', 'chose', 'Python', 'as', 'the', 'programming', 'language', 'to', 'use', 'as', 'it', 'is', 'very', 'convenient', 'and', 'definitely', 'made', 'for', 'this', 'type', 'of', 'task', '.', 'So', 'first', ',', 'my', 'Python', 'program', 'will', 'call', 'the', 'Zoom', 'API', 'to', 'fetch', 'the', 'list', 'of', 'meeting', 'participants', '.', 'Then', ',', 'using', 'Pandas', 'library', ',', 'it', 'will', 'transform', 'and', 'simplify', 'the', 'data', 'to', 'a', 'human', 'friendly', ',', 'readable', 'tabular', 'format', '.', 'Finally', ',', 'I', 'am', 'using', 'the', 'Google', 'API', 'to', 'store', 'the', 'final', 'report', 'in', 'a', 'Google', 'Sheets', ',', 'which', 'is', 'made', 'accessible', 'to', 'the', 'class', 'leaders', 'who', 'need', 'to', 'see', 'the', 'attendance', 'report', '.']\n"
     ]
    }
   ],
   "source": [
    "lang_model = 'en_core_web_sm'\n",
    "entity_result = entity_analyzer(message, lang_model)"
   ]
  },
  {
   "cell_type": "code",
   "execution_count": 10,
   "id": "9cd3f12f-6872-4b64-ba23-2ee454cf9f38",
   "metadata": {},
   "outputs": [
    {
     "data": {
      "text/plain": [
       "['Entities\":[(\\'Church’s\\', 383), (\\'Zoom\\', 380), (\\'one\\', 397), (\\'Zoom\\', 384), (\\'Dev\\', 380), (\\'Zoom API\\', 380), (\\'Zoom\\', 384), (\\'first\\', 396), (\\'the Zoom API\\', 385), (\\'Pandas\\', 381), (\\'a Google Sheets\\', 383)]']"
      ]
     },
     "execution_count": 10,
     "metadata": {},
     "output_type": "execute_result"
    }
   ],
   "source": [
    "entity_result"
   ]
  },
  {
   "cell_type": "code",
   "execution_count": 12,
   "id": "689770cb-9e31-4ed3-bc8d-9d40d303beb4",
   "metadata": {},
   "outputs": [
    {
     "name": "stdout",
     "output_type": "stream",
     "text": [
      "Apple 0 5 ORG\n",
      "U.K. 27 31 GPE\n",
      "$1 billion 44 54 MONEY\n"
     ]
    }
   ],
   "source": [
    "\n",
    "nlp = spacy.load(\"en_core_web_sm\")\n",
    "doc = nlp(\"Apple is looking at buying U.K. startup for $1 billion\")\n",
    "\n",
    "for ent in doc.ents:\n",
    "    print(ent.text, ent.start_char, ent.end_char, ent.label_)"
   ]
  },
  {
   "cell_type": "code",
   "execution_count": null,
   "id": "05a1186c-b428-48f0-b10e-de849fb4ca7a",
   "metadata": {},
   "outputs": [],
   "source": []
  }
 ],
 "metadata": {
  "kernelspec": {
   "display_name": "PyTorch",
   "language": "python",
   "name": "pytorch"
  },
  "language_info": {
   "codemirror_mode": {
    "name": "ipython",
    "version": 3
   },
   "file_extension": ".py",
   "mimetype": "text/x-python",
   "name": "python",
   "nbconvert_exporter": "python",
   "pygments_lexer": "ipython3",
   "version": "3.6.9"
  },
  "widgets": {
   "application/vnd.jupyter.widget-state+json": {
    "state": {},
    "version_major": 2,
    "version_minor": 0
   }
  }
 },
 "nbformat": 4,
 "nbformat_minor": 5
}
