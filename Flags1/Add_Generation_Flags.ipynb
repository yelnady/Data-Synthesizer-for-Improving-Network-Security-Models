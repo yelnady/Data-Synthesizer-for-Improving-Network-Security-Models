{
 "cells": [
  {
   "cell_type": "markdown",
   "id": "derived-costume",
   "metadata": {},
   "source": [
    "# Required Imports"
   ]
  },
  {
   "cell_type": "code",
   "execution_count": 1,
   "id": "prospective-railway",
   "metadata": {},
   "outputs": [
    {
     "name": "stdout",
     "output_type": "stream",
     "text": [
      "cuda:1\n"
     ]
    }
   ],
   "source": [
    "import sys, random, math, pickle\n",
    "from time import time\n",
    "import numpy as np\n",
    "import matplotlib\n",
    "import matplotlib.pyplot as plt\n",
    "import torch\n",
    "from torch import nn\n",
    "import torch.nn.functional as F\n",
    "from torch.nn import MSELoss\n",
    "from tensorboard import default\n",
    "import torch.nn.functional as F\n",
    "device = torch.device(\"cuda:1\" if torch.cuda.is_available() else \"cpu\")\n",
    "sys.path.append('DG/gan')\n",
    "import gc\n",
    "print(device)"
   ]
  },
  {
   "cell_type": "markdown",
   "id": "diverse-tennessee",
   "metadata": {},
   "source": [
    "# Import Data (X,Y) and Mask"
   ]
  },
  {
   "cell_type": "code",
   "execution_count": 2,
   "id": "processed-daily",
   "metadata": {},
   "outputs": [],
   "source": [
    "data = np.load('data/google/data_train.npz')\n",
    "\n",
    "data_feature = torch.from_numpy(data['data_feature']).float() #[50000, 2500, 9]\n",
    "data_attribute = torch.from_numpy(data['data_attribute']) #[50000,4]\n",
    "data_gen_flag = torch.from_numpy(data['data_gen_flag'])   # (50000, 2500)"
   ]
  },
  {
   "cell_type": "markdown",
   "id": "global-sterling",
   "metadata": {},
   "source": [
    "# Generation Flag"
   ]
  },
  {
   "cell_type": "code",
   "execution_count": 3,
   "id": "hazardous-creation",
   "metadata": {},
   "outputs": [],
   "source": [
    "def get_generation_flags(mask_matrix):\n",
    "    P1 = (mask_matrix == 1)\n",
    "    P2 = (mask_matrix == 0)\n",
    "    for p1,p2 in zip(P1,P2):\n",
    "        idx_to_be_0_1 = np.where(p1==True)[0][-1]\n",
    "        p1[idx_to_be_0_1]= False\n",
    "        p2[idx_to_be_0_1] = True\n",
    "        \n",
    "        p1[idx_to_be_0_1+1:] = False\n",
    "        p2[idx_to_be_0_1+1:] = False \n",
    "    res = torch.cat((P1.unsqueeze(2),P2.unsqueeze(2)),2)\n",
    "    return res.long()"
   ]
  },
  {
   "cell_type": "code",
   "execution_count": 4,
   "id": "aboriginal-memorabilia",
   "metadata": {},
   "outputs": [],
   "source": [
    "gen_flag = get_generation_flags(data_gen_flag) # [6529, 2500, 2]\n",
    "data_feature = torch.cat((data_feature,gen_flag),2) # [6529, 2500, 11]"
   ]
  },
  {
   "cell_type": "code",
   "execution_count": 5,
   "id": "accomplished-satin",
   "metadata": {},
   "outputs": [
    {
     "data": {
      "text/plain": [
       "torch.Size([50000, 2500, 11])"
      ]
     },
     "execution_count": 5,
     "metadata": {},
     "output_type": "execute_result"
    }
   ],
   "source": [
    "data_feature.shape"
   ]
  },
  {
   "cell_type": "markdown",
   "id": "manual-driving",
   "metadata": {},
   "source": [
    "# Save Data"
   ]
  },
  {
   "cell_type": "code",
   "execution_count": 6,
   "id": "filled-finder",
   "metadata": {},
   "outputs": [],
   "source": [
    "np.savez('data_train', data_feature=data_feature,data_attribute=data_attribute,data_gen_flag=data_gen_flag )"
   ]
  }
 ],
 "metadata": {
  "kernelspec": {
   "display_name": "Python [conda env:pytorch]",
   "language": "python",
   "name": "conda-env-pytorch-py"
  },
  "language_info": {
   "codemirror_mode": {
    "name": "ipython",
    "version": 3
   },
   "file_extension": ".py",
   "mimetype": "text/x-python",
   "name": "python",
   "nbconvert_exporter": "python",
   "pygments_lexer": "ipython3",
   "version": "3.6.9"
  }
 },
 "nbformat": 4,
 "nbformat_minor": 5
}
